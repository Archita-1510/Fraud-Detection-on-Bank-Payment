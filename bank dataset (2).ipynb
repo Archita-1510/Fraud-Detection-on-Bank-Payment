{
 "cells": [
  {
   "cell_type": "code",
   "execution_count": null,
   "metadata": {},
   "outputs": [],
   "source": [
    "import pandas as pd\n",
    "import numpy as np\n",
    "import matplotlib.pyplot as plt\n",
    "import seaborn as sns"
   ]
  },
  {
   "cell_type": "code",
   "execution_count": null,
   "metadata": {},
   "outputs": [],
   "source": [
    "data=pd.read_csv(r\"banksim dAtaset.csv\")\n",
    "data.head()"
   ]
  },
  {
   "cell_type": "code",
   "execution_count": null,
   "metadata": {},
   "outputs": [],
   "source": [
    "data.info()"
   ]
  },
  {
   "cell_type": "code",
   "execution_count": null,
   "metadata": {},
   "outputs": [],
   "source": [
    "data.describe()\n",
    "#data symm or not?"
   ]
  },
  {
   "cell_type": "code",
   "execution_count": null,
   "metadata": {},
   "outputs": [],
   "source": [
    "#Checking for absurd values\n",
    "data['step'].unique"
   ]
  },
  {
   "cell_type": "code",
   "execution_count": null,
   "metadata": {},
   "outputs": [],
   "source": [
    "plt.pie(data[\"fraud\"].value_counts(),labels=[587443*100/(587443+7200),7200*100/(587443+7200)])\n",
    "plt.title(\"Fraud frequency\")"
   ]
  },
  {
   "cell_type": "code",
   "execution_count": null,
   "metadata": {},
   "outputs": [],
   "source": [
    "sns.countplot(x=\"fraud\",data=data)\n",
    "plt.title(\"Count of Fraudulent Payments\")\n",
    "plt.show()"
   ]
  },
  {
   "cell_type": "code",
   "execution_count": null,
   "metadata": {},
   "outputs": [],
   "source": [
    "data['category'].value_counts()"
   ]
  },
  {
   "cell_type": "code",
   "execution_count": null,
   "metadata": {},
   "outputs": [],
   "source": [
    "sns.catplot(data=data,x='category',kind='count',height=5,aspect=3.5)"
   ]
  },
  {
   "cell_type": "code",
   "execution_count": null,
   "metadata": {},
   "outputs": [],
   "source": [
    "data['gender'].value_counts()"
   ]
  },
  {
   "cell_type": "code",
   "execution_count": null,
   "metadata": {},
   "outputs": [],
   "source": [
    "sns.catplot(data=data,x='gender',kind='count',height=5,aspect=3.5)"
   ]
  },
  {
   "cell_type": "code",
   "execution_count": null,
   "metadata": {},
   "outputs": [],
   "source": [
    "data['age'].value_counts()"
   ]
  },
  {
   "cell_type": "code",
   "execution_count": null,
   "metadata": {},
   "outputs": [],
   "source": [
    "sns.catplot(data=data,x='age',kind='count',height=5,aspect=3.5)"
   ]
  },
  {
   "cell_type": "code",
   "execution_count": null,
   "metadata": {},
   "outputs": [],
   "source": [
    "sns.set_style('whitegrid')\n",
    "sns.distplot(data['amount'], hist=False, kde = True, color ='purple', kde_kws = {'linewidth': 3}, bins = 7)\n",
    "plt.title(\"Amount Distribution- Right Skewed Curve\")\n",
    "plt.xlabel(\"Amount\")\n",
    "plt.ylabel(\"Density\")\n",
    "plt.show()"
   ]
  },
  {
   "cell_type": "code",
   "execution_count": null,
   "metadata": {},
   "outputs": [],
   "source": [
    "sns.catplot(data=data,x='step',kind='count') #there is no relationship between time and number of fraud cases"
   ]
  },
  {
   "cell_type": "code",
   "execution_count": null,
   "metadata": {},
   "outputs": [],
   "source": [
    "plt.subplots(figsize=(25,10))\n",
    "sns.boxplot(x=data.category,y=data.amount,data=data)"
   ]
  },
  {
   "cell_type": "code",
   "execution_count": null,
   "metadata": {},
   "outputs": [],
   "source": [
    "data=data.drop(['zipcodeOri', 'zipMerchant'], axis = 1)"
   ]
  },
  {
   "cell_type": "code",
   "execution_count": null,
   "metadata": {},
   "outputs": [],
   "source": [
    "# Create two dataframes with fraud and non-fraud data \n",
    "data_fraud = data.loc[data.fraud == 1] \n",
    "data_nonfraud = data.loc[data.fraud == 0]"
   ]
  },
  {
   "cell_type": "code",
   "execution_count": null,
   "metadata": {},
   "outputs": [],
   "source": [
    "plt.subplots(figsize=(25,10))\n",
    "sns.boxplot(x=data_fraud.category,y=data_fraud.amount)"
   ]
  },
  {
   "cell_type": "code",
   "execution_count": null,
   "metadata": {},
   "outputs": [],
   "source": [
    "data_fraud['category'].value_counts()"
   ]
  },
  {
   "cell_type": "code",
   "execution_count": null,
   "metadata": {},
   "outputs": [],
   "source": [
    "sns.catplot(data=data_fraud,x='category',kind='count')"
   ]
  },
  {
   "cell_type": "code",
   "execution_count": null,
   "metadata": {},
   "outputs": [],
   "source": [
    "data_nonfraud['category'].value_counts()"
   ]
  },
  {
   "cell_type": "code",
   "execution_count": null,
   "metadata": {},
   "outputs": [],
   "source": [
    "sns.catplot(data=data_nonfraud,x='category',kind='count')"
   ]
  },
  {
   "cell_type": "code",
   "execution_count": null,
   "metadata": {},
   "outputs": [],
   "source": [
    "data_fraud['gender'].value_counts()"
   ]
  },
  {
   "cell_type": "code",
   "execution_count": null,
   "metadata": {},
   "outputs": [],
   "source": [
    "sns.catplot(data=data_fraud,x='gender',kind='count')"
   ]
  },
  {
   "cell_type": "code",
   "execution_count": null,
   "metadata": {},
   "outputs": [],
   "source": [
    "data_nonfraud['gender'].value_counts()"
   ]
  },
  {
   "cell_type": "code",
   "execution_count": null,
   "metadata": {},
   "outputs": [],
   "source": [
    "sns.catplot(data=data_nonfraud,x='gender',kind='count')"
   ]
  },
  {
   "cell_type": "code",
   "execution_count": null,
   "metadata": {},
   "outputs": [],
   "source": [
    "data_fraud['age'].value_counts()"
   ]
  },
  {
   "cell_type": "code",
   "execution_count": null,
   "metadata": {},
   "outputs": [],
   "source": [
    "sns.catplot(data=data_fraud,x='age',kind='count')"
   ]
  },
  {
   "cell_type": "code",
   "execution_count": null,
   "metadata": {},
   "outputs": [],
   "source": [
    "data_nonfraud['age'].value_counts()"
   ]
  },
  {
   "cell_type": "code",
   "execution_count": null,
   "metadata": {},
   "outputs": [],
   "source": [
    "sns.catplot(data=data_nonfraud,x='age',kind='count')"
   ]
  },
  {
   "cell_type": "code",
   "execution_count": null,
   "metadata": {},
   "outputs": [],
   "source": [
    "data.groupby('category')['amount','fraud'].mean()"
   ]
  },
  {
   "cell_type": "code",
   "execution_count": null,
   "metadata": {},
   "outputs": [],
   "source": [
    "data.groupby('gender')['amount','fraud'].mean()"
   ]
  },
  {
   "cell_type": "code",
   "execution_count": null,
   "metadata": {},
   "outputs": [],
   "source": [
    "data.groupby('age')['amount','fraud'].mean()"
   ]
  },
  {
   "cell_type": "code",
   "execution_count": null,
   "metadata": {},
   "outputs": [],
   "source": [
    "plt.plot(data.groupby('age')['amount','fraud'].mean()['amount'])\n"
   ]
  },
  {
   "cell_type": "code",
   "execution_count": null,
   "metadata": {},
   "outputs": [],
   "source": [
    "plt.plot(data.groupby('gender')['amount','fraud'].mean()['amount'])\n"
   ]
  },
  {
   "cell_type": "code",
   "execution_count": null,
   "metadata": {},
   "outputs": [],
   "source": [
    "plt.plot(data.groupby('category')['amount','fraud'].mean()['amount'])"
   ]
  },
  {
   "cell_type": "code",
   "execution_count": null,
   "metadata": {},
   "outputs": [],
   "source": [
    "def addlabels(x,y):\n",
    "    for i in range(len(x)):\n",
    "        plt.text(i, y[i], y[i], ha = 'center')\n",
    "plt.bar(data.category.unique(),data.groupby('category')['amount','fraud'].mean()['amount'])\n",
    "plt.title(\" Avg Exp per Category\")\n",
    "plt.xlabel(\"Category\")\n",
    "plt.ylabel(\"Avg, Exp\")\n",
    "addlabels(data.category.unique(),data.groupby('category')['amount','fraud'].mean()['amount'] )\n",
    "plt.show()\n"
   ]
  },
  {
   "cell_type": "code",
   "execution_count": null,
   "metadata": {},
   "outputs": [],
   "source": [
    "plt.bar(data.age.unique(),data.groupby('age')['amount','fraud'].mean()['amount'])\n",
    "plt.title(\" Avg Exp per Age group\")\n",
    "plt.xlabel(\"Age group\")\n",
    "plt.ylabel(\"Avg, Exp\")\n",
    "addlabels(data.age.unique(),data.groupby('age')['amount','fraud'].mean()['amount'] )\n",
    "plt.show()"
   ]
  },
  {
   "cell_type": "code",
   "execution_count": null,
   "metadata": {},
   "outputs": [],
   "source": [
    "plt.bar(data.gender.unique(),data.groupby('gender')['amount','fraud'].mean()['amount'])\n",
    "plt.title(\" Avg Exp gender wise\")\n",
    "plt.xlabel(\"Gender\")\n",
    "plt.ylabel(\"Avg, Exp\")\n",
    "addlabels(data.gender.unique(),data.groupby('gender')['amount','fraud'].mean()['amount'] )\n",
    "plt.show()"
   ]
  },
  {
   "cell_type": "code",
   "execution_count": null,
   "metadata": {},
   "outputs": [],
   "source": [
    "def interval(x):\n",
    "    if x<500:\n",
    "        return \"0-500\"\n",
    "    if x<1000:\n",
    "        return \"500-1000\"\n",
    "    if x<1500:\n",
    "        return \"1000-1500\"\n",
    "    if x<2000:\n",
    "        return \"1500-2000\"\n",
    "    if x<2500:\n",
    "        return \"2000-2500\"\n",
    "    if x<3000:\n",
    "        return \"2500-3000\"\n",
    "    if x>=3000:\n",
    "        return \">=3000\"\n",
    "data[\"amt_interval\"] = data[\"amount\"].apply(lambda x: interval(x))\n",
    "    "
   ]
  },
  {
   "cell_type": "code",
   "execution_count": null,
   "metadata": {},
   "outputs": [],
   "source": [
    "df=data.groupby('amt_interval')['amount','fraud'].mean()\n",
    "df[\"fraud\"]=df[\"fraud\"]*100\n",
    "df[\"nonfraud\"]=100-df[\"fraud\"]\n",
    "df.sort_values(by=['amount'], inplace=True)\n",
    "df"
   ]
  },
  {
   "cell_type": "code",
   "execution_count": null,
   "metadata": {},
   "outputs": [],
   "source": [
    "data[\"amt_interval\"].value_counts()"
   ]
  },
  {
   "cell_type": "code",
   "execution_count": null,
   "metadata": {},
   "outputs": [],
   "source": [
    "sns.catplot(data=data,x='amt_interval',kind='count')"
   ]
  },
  {
   "cell_type": "code",
   "execution_count": null,
   "metadata": {
    "scrolled": true
   },
   "outputs": [],
   "source": [
    "plt.figure(figsize=(10,10))\n",
    "plt.bar([\"0-500\",\"500-1000\",\"1000-1500\",\"1500-2000\",\"2000-2500\",\"2500-3000\",\">=3000\"],df[\"fraud\"])\n",
    "plt.bar([\"0-500\",\"500-1000\",\"1000-1500\",\"1500-2000\",\"2000-2500\",\"2500-3000\",\">=3000\"],df[\"nonfraud\"])\n",
    "plt.legend([\"fraud\", \"nonfraud\"],loc='upper right', prop = {'size' : 20}, shadow = True, facecolor = 'green')\n",
    "plt.title(\"Fraud % for amt_intervals\")\n"
   ]
  },
  {
   "cell_type": "code",
   "execution_count": null,
   "metadata": {},
   "outputs": [],
   "source": [
    "def cat(x):\n",
    "    if x<250:\n",
    "        return \"0-250\"\n",
    "    if x>=250:\n",
    "        return \">=250\"\n",
    "data_fraud[\"cat\"] = data_fraud[\"amount\"].apply(lambda x: cat(x))\n",
    "data_nonfraud[\"cat\"] = data_nonfraud[\"amount\"].apply(lambda x: cat(x))"
   ]
  },
  {
   "cell_type": "code",
   "execution_count": null,
   "metadata": {},
   "outputs": [],
   "source": [
    "z=[\"0\",\"1\"]\n",
    "data_nonfraud[\"cat\"].value_counts()\n",
    "data_fraud[\"cat\"].value_counts()"
   ]
  },
  {
   "cell_type": "code",
   "execution_count": null,
   "metadata": {},
   "outputs": [],
   "source": [
    "plt.bar(z,[data_nonfraud[\"cat\"].value_counts()[\"0-250\"],data_fraud[\"cat\"].value_counts()[\"0-250\"]])\n",
    "addlabels(z,[data_nonfraud[\"cat\"].value_counts()[\"0-250\"],data_fraud[\"cat\"].value_counts()[\"0-250\"]])\n",
    "plt.title(\"transaction category for amt range 0-250\")"
   ]
  },
  {
   "cell_type": "code",
   "execution_count": null,
   "metadata": {},
   "outputs": [],
   "source": [
    "plt.bar(z,[data_nonfraud[\"cat\"].value_counts()[\">=250\"],data_fraud[\"cat\"].value_counts()[\">=250\"]])\n",
    "addlabels(z,[data_nonfraud[\"cat\"].value_counts()[\">=250\"],data_fraud[\"cat\"].value_counts()[\">=250\"]])\n",
    "plt.title(\"transaction category for amt range >=250\")"
   ]
  },
  {
   "cell_type": "code",
   "execution_count": null,
   "metadata": {},
   "outputs": [],
   "source": [
    "# Plot histograms of the amounts in fraud and non-fraud data \n",
    "plt.hist(data_fraud.amount, alpha=0.5, label='fraud',bins=100)\n",
    "plt.hist(data_nonfraud.amount, alpha=0.5, label='nonfraud',bins=100)\n",
    "plt.title(\"Histogram for fraudulent and nonfraudulent payments\")\n",
    "plt.ylim(0,10000)\n",
    "plt.xlim(0,1000)\n",
    "plt.legend()\n",
    "plt.show()"
   ]
  },
  {
   "cell_type": "code",
   "execution_count": null,
   "metadata": {},
   "outputs": [],
   "source": [
    "sns.catplot(data=data,x='merchant',kind='count',orient=\"v\")"
   ]
  },
  {
   "cell_type": "code",
   "execution_count": null,
   "metadata": {},
   "outputs": [],
   "source": []
  }
 ],
 "metadata": {
  "kernelspec": {
   "display_name": "Python 3",
   "language": "python",
   "name": "python3"
  },
  "language_info": {
   "codemirror_mode": {
    "name": "ipython",
    "version": 3
   },
   "file_extension": ".py",
   "mimetype": "text/x-python",
   "name": "python",
   "nbconvert_exporter": "python",
   "pygments_lexer": "ipython3",
   "version": "3.8.3"
  }
 },
 "nbformat": 4,
 "nbformat_minor": 4
}
