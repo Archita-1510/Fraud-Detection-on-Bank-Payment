{
  "nbformat": 4,
  "nbformat_minor": 5,
  "metadata": {
    "kernelspec": {
      "display_name": "Python 3",
      "language": "python",
      "name": "python3"
    },
    "colab": {
      "name": "bank fraud decision tree.ipynb",
      "provenance": []
    }
  },
  "cells": [
    {
      "cell_type": "code",
      "metadata": {
        "id": "054278ed"
      },
      "source": [
        "import pandas as pd\n",
        "import numpy as np\n",
        "import matplotlib.pyplot as plt\n",
        "import seaborn as sns\n",
        "\n",
        "from imblearn.under_sampling import RandomUnderSampler\n",
        "from imblearn.over_sampling import (SMOTE, RandomOverSampler)\n",
        "from imblearn.combine import SMOTEENN, SMOTETomek\n",
        "\n",
        "from sklearn.preprocessing import LabelEncoder, StandardScaler\n",
        "from sklearn.model_selection import train_test_split, cross_val_predict, cross_val_score\n",
        "\n",
        "from sklearn import metrics\n",
        "from sklearn.metrics import classification_report, recall_score, precision_score, accuracy_score, f1_score\n",
        "\n",
        "from sklearn.linear_model import LogisticRegression\n",
        "from sklearn.svm import SVC\n",
        "from sklearn.ensemble import RandomForestClassifier\n",
        "from sklearn.tree import DecisionTreeClassifier\n",
        "from sklearn.naive_bayes import GaussianNB\n",
        "from sklearn.neighbors import KNeighborsClassifier"
      ],
      "id": "054278ed",
      "execution_count": null,
      "outputs": []
    },
    {
      "cell_type": "code",
      "metadata": {
        "id": "c2a1d4fb",
        "outputId": "10e3e5e8-2cbb-4c05-f6fc-9a7d4eb6d3fd"
      },
      "source": [
        "!pip install imblearn"
      ],
      "id": "c2a1d4fb",
      "execution_count": null,
      "outputs": [
        {
          "output_type": "stream",
          "text": [
            "Requirement already satisfied: imblearn in c:\\users\\hp\\anaconda3\\lib\\site-packages (0.0)\n",
            "Requirement already satisfied: imbalanced-learn in c:\\users\\hp\\anaconda3\\lib\\site-packages (from imblearn) (0.8.0)\n",
            "Requirement already satisfied: scikit-learn>=0.24 in c:\\users\\hp\\anaconda3\\lib\\site-packages (from imbalanced-learn->imblearn) (0.24.1)\n",
            "Requirement already satisfied: numpy>=1.13.3 in c:\\users\\hp\\anaconda3\\lib\\site-packages (from imbalanced-learn->imblearn) (1.20.1)\n",
            "Requirement already satisfied: joblib>=0.11 in c:\\users\\hp\\anaconda3\\lib\\site-packages (from imbalanced-learn->imblearn) (1.0.1)\n",
            "Requirement already satisfied: scipy>=0.19.1 in c:\\users\\hp\\anaconda3\\lib\\site-packages (from imbalanced-learn->imblearn) (1.6.2)\n",
            "Requirement already satisfied: threadpoolctl>=2.0.0 in c:\\users\\hp\\anaconda3\\lib\\site-packages (from scikit-learn>=0.24->imbalanced-learn->imblearn) (2.1.0)\n"
          ],
          "name": "stdout"
        }
      ]
    },
    {
      "cell_type": "code",
      "metadata": {
        "id": "712ae7ab",
        "outputId": "b1358c30-0ef6-478c-e2f4-6cbb26489838"
      },
      "source": [
        "df=pd.read_csv(r\"banksim dAtaset.csv\")\n",
        "df.head()"
      ],
      "id": "712ae7ab",
      "execution_count": null,
      "outputs": [
        {
          "output_type": "execute_result",
          "data": {
            "text/html": [
              "<div>\n",
              "<style scoped>\n",
              "    .dataframe tbody tr th:only-of-type {\n",
              "        vertical-align: middle;\n",
              "    }\n",
              "\n",
              "    .dataframe tbody tr th {\n",
              "        vertical-align: top;\n",
              "    }\n",
              "\n",
              "    .dataframe thead th {\n",
              "        text-align: right;\n",
              "    }\n",
              "</style>\n",
              "<table border=\"1\" class=\"dataframe\">\n",
              "  <thead>\n",
              "    <tr style=\"text-align: right;\">\n",
              "      <th></th>\n",
              "      <th>step</th>\n",
              "      <th>customer</th>\n",
              "      <th>age</th>\n",
              "      <th>gender</th>\n",
              "      <th>zipcodeOri</th>\n",
              "      <th>merchant</th>\n",
              "      <th>zipMerchant</th>\n",
              "      <th>category</th>\n",
              "      <th>amount</th>\n",
              "      <th>fraud</th>\n",
              "    </tr>\n",
              "  </thead>\n",
              "  <tbody>\n",
              "    <tr>\n",
              "      <th>0</th>\n",
              "      <td>0</td>\n",
              "      <td>'C1093826151'</td>\n",
              "      <td>'4'</td>\n",
              "      <td>'M'</td>\n",
              "      <td>'28007'</td>\n",
              "      <td>'M348934600'</td>\n",
              "      <td>'28007'</td>\n",
              "      <td>'es_transportation'</td>\n",
              "      <td>4.55</td>\n",
              "      <td>0</td>\n",
              "    </tr>\n",
              "    <tr>\n",
              "      <th>1</th>\n",
              "      <td>0</td>\n",
              "      <td>'C352968107'</td>\n",
              "      <td>'2'</td>\n",
              "      <td>'M'</td>\n",
              "      <td>'28007'</td>\n",
              "      <td>'M348934600'</td>\n",
              "      <td>'28007'</td>\n",
              "      <td>'es_transportation'</td>\n",
              "      <td>39.68</td>\n",
              "      <td>0</td>\n",
              "    </tr>\n",
              "    <tr>\n",
              "      <th>2</th>\n",
              "      <td>0</td>\n",
              "      <td>'C2054744914'</td>\n",
              "      <td>'4'</td>\n",
              "      <td>'F'</td>\n",
              "      <td>'28007'</td>\n",
              "      <td>'M1823072687'</td>\n",
              "      <td>'28007'</td>\n",
              "      <td>'es_transportation'</td>\n",
              "      <td>26.89</td>\n",
              "      <td>0</td>\n",
              "    </tr>\n",
              "    <tr>\n",
              "      <th>3</th>\n",
              "      <td>0</td>\n",
              "      <td>'C1760612790'</td>\n",
              "      <td>'3'</td>\n",
              "      <td>'M'</td>\n",
              "      <td>'28007'</td>\n",
              "      <td>'M348934600'</td>\n",
              "      <td>'28007'</td>\n",
              "      <td>'es_transportation'</td>\n",
              "      <td>17.25</td>\n",
              "      <td>0</td>\n",
              "    </tr>\n",
              "    <tr>\n",
              "      <th>4</th>\n",
              "      <td>0</td>\n",
              "      <td>'C757503768'</td>\n",
              "      <td>'5'</td>\n",
              "      <td>'M'</td>\n",
              "      <td>'28007'</td>\n",
              "      <td>'M348934600'</td>\n",
              "      <td>'28007'</td>\n",
              "      <td>'es_transportation'</td>\n",
              "      <td>35.72</td>\n",
              "      <td>0</td>\n",
              "    </tr>\n",
              "  </tbody>\n",
              "</table>\n",
              "</div>"
            ],
            "text/plain": [
              "   step       customer  age gender zipcodeOri       merchant zipMerchant  \\\n",
              "0     0  'C1093826151'  '4'    'M'    '28007'   'M348934600'     '28007'   \n",
              "1     0   'C352968107'  '2'    'M'    '28007'   'M348934600'     '28007'   \n",
              "2     0  'C2054744914'  '4'    'F'    '28007'  'M1823072687'     '28007'   \n",
              "3     0  'C1760612790'  '3'    'M'    '28007'   'M348934600'     '28007'   \n",
              "4     0   'C757503768'  '5'    'M'    '28007'   'M348934600'     '28007'   \n",
              "\n",
              "              category  amount  fraud  \n",
              "0  'es_transportation'    4.55      0  \n",
              "1  'es_transportation'   39.68      0  \n",
              "2  'es_transportation'   26.89      0  \n",
              "3  'es_transportation'   17.25      0  \n",
              "4  'es_transportation'   35.72      0  "
            ]
          },
          "metadata": {
            "tags": []
          },
          "execution_count": 3
        }
      ]
    },
    {
      "cell_type": "code",
      "metadata": {
        "id": "70c35889",
        "outputId": "120f0fe8-17c6-4ff1-cd73-785dafe03b76"
      },
      "source": [
        "encoder=LabelEncoder()\n",
        "df['customer']=encoder.fit_transform(df['customer'])\n",
        "df['age']=encoder.fit_transform(df['age'])\n",
        "df['gender']=encoder.fit_transform(df['gender'])\n",
        "df['merchant']=encoder.fit_transform(df['merchant'])\n",
        "df['category']=encoder.fit_transform(df['category'])\n",
        "df.drop(['zipcodeOri','zipMerchant'],axis=1,inplace=True)\n",
        "df=df.query('amount>0')\n",
        "df.head()"
      ],
      "id": "70c35889",
      "execution_count": null,
      "outputs": [
        {
          "output_type": "execute_result",
          "data": {
            "text/html": [
              "<div>\n",
              "<style scoped>\n",
              "    .dataframe tbody tr th:only-of-type {\n",
              "        vertical-align: middle;\n",
              "    }\n",
              "\n",
              "    .dataframe tbody tr th {\n",
              "        vertical-align: top;\n",
              "    }\n",
              "\n",
              "    .dataframe thead th {\n",
              "        text-align: right;\n",
              "    }\n",
              "</style>\n",
              "<table border=\"1\" class=\"dataframe\">\n",
              "  <thead>\n",
              "    <tr style=\"text-align: right;\">\n",
              "      <th></th>\n",
              "      <th>step</th>\n",
              "      <th>customer</th>\n",
              "      <th>age</th>\n",
              "      <th>gender</th>\n",
              "      <th>merchant</th>\n",
              "      <th>category</th>\n",
              "      <th>amount</th>\n",
              "      <th>fraud</th>\n",
              "    </tr>\n",
              "  </thead>\n",
              "  <tbody>\n",
              "    <tr>\n",
              "      <th>0</th>\n",
              "      <td>0</td>\n",
              "      <td>210</td>\n",
              "      <td>4</td>\n",
              "      <td>2</td>\n",
              "      <td>30</td>\n",
              "      <td>12</td>\n",
              "      <td>4.55</td>\n",
              "      <td>0</td>\n",
              "    </tr>\n",
              "    <tr>\n",
              "      <th>1</th>\n",
              "      <td>0</td>\n",
              "      <td>2753</td>\n",
              "      <td>2</td>\n",
              "      <td>2</td>\n",
              "      <td>30</td>\n",
              "      <td>12</td>\n",
              "      <td>39.68</td>\n",
              "      <td>0</td>\n",
              "    </tr>\n",
              "    <tr>\n",
              "      <th>2</th>\n",
              "      <td>0</td>\n",
              "      <td>2285</td>\n",
              "      <td>4</td>\n",
              "      <td>1</td>\n",
              "      <td>18</td>\n",
              "      <td>12</td>\n",
              "      <td>26.89</td>\n",
              "      <td>0</td>\n",
              "    </tr>\n",
              "    <tr>\n",
              "      <th>3</th>\n",
              "      <td>0</td>\n",
              "      <td>1650</td>\n",
              "      <td>3</td>\n",
              "      <td>2</td>\n",
              "      <td>30</td>\n",
              "      <td>12</td>\n",
              "      <td>17.25</td>\n",
              "      <td>0</td>\n",
              "    </tr>\n",
              "    <tr>\n",
              "      <th>4</th>\n",
              "      <td>0</td>\n",
              "      <td>3585</td>\n",
              "      <td>5</td>\n",
              "      <td>2</td>\n",
              "      <td>30</td>\n",
              "      <td>12</td>\n",
              "      <td>35.72</td>\n",
              "      <td>0</td>\n",
              "    </tr>\n",
              "  </tbody>\n",
              "</table>\n",
              "</div>"
            ],
            "text/plain": [
              "   step  customer  age  gender  merchant  category  amount  fraud\n",
              "0     0       210    4       2        30        12    4.55      0\n",
              "1     0      2753    2       2        30        12   39.68      0\n",
              "2     0      2285    4       1        18        12   26.89      0\n",
              "3     0      1650    3       2        30        12   17.25      0\n",
              "4     0      3585    5       2        30        12   35.72      0"
            ]
          },
          "metadata": {
            "tags": []
          },
          "execution_count": 4
        }
      ]
    },
    {
      "cell_type": "code",
      "metadata": {
        "id": "6a99eb2d",
        "outputId": "42e0baa1-e42c-405c-e900-a5397014a039"
      },
      "source": [
        "fraud = df[df['fraud']==1]\n",
        "non_fraud = df[df['fraud']==0]\n",
        "print(fraud.shape , non_fraud.shape)"
      ],
      "id": "6a99eb2d",
      "execution_count": null,
      "outputs": [
        {
          "output_type": "stream",
          "text": [
            "(7200, 8) (587391, 8)\n"
          ],
          "name": "stdout"
        }
      ]
    },
    {
      "cell_type": "code",
      "metadata": {
        "id": "31a5a150",
        "outputId": "d46c3a59-6050-468a-d762-e9151bcad53d"
      },
      "source": [
        "x=df.drop('fraud',axis=1)\n",
        "y=df['fraud']\n",
        "print(x.head())\n",
        "print(y.head())"
      ],
      "id": "31a5a150",
      "execution_count": null,
      "outputs": [
        {
          "output_type": "stream",
          "text": [
            "   step  customer  age  gender  merchant  category  amount\n",
            "0     0       210    4       2        30        12    4.55\n",
            "1     0      2753    2       2        30        12   39.68\n",
            "2     0      2285    4       1        18        12   26.89\n",
            "3     0      1650    3       2        30        12   17.25\n",
            "4     0      3585    5       2        30        12   35.72\n",
            "0    0\n",
            "1    0\n",
            "2    0\n",
            "3    0\n",
            "4    0\n",
            "Name: fraud, dtype: int64\n"
          ],
          "name": "stdout"
        }
      ]
    },
    {
      "cell_type": "code",
      "metadata": {
        "id": "322ee122",
        "outputId": "5b715c42-4a5d-464e-cf42-5ab4bf33e33c"
      },
      "source": [
        "plt.subplots(figsize=(10,7))\n",
        "sns.heatmap(df.corr(),annot=True)"
      ],
      "id": "322ee122",
      "execution_count": null,
      "outputs": [
        {
          "output_type": "execute_result",
          "data": {
            "text/plain": [
              "<AxesSubplot:>"
            ]
          },
          "metadata": {
            "tags": []
          },
          "execution_count": 7
        },
        {
          "output_type": "display_data",
          "data": {
            "image/png": "[encoded data removed]",
            "text/plain": [
              "<Figure size 720x504 with 2 Axes>"
            ]
          },
          "metadata": {
            "tags": [],
            "needs_background": "light"
          }
        }
      ]
    },
    {
      "cell_type": "code",
      "metadata": {
        "id": "517ceee9"
      },
      "source": [
        "x_new=pd.DataFrame(data=df,columns=['amount','category','merchant','gender','age','customer'])\n",
        "x_train,x_test,y_train,y_test=train_test_split(x_new,y,test_size=0.2,random_state=0)"
      ],
      "id": "517ceee9",
      "execution_count": null,
      "outputs": []
    },
    {
      "cell_type": "code",
      "metadata": {
        "id": "6133f2bc"
      },
      "source": [
        "models={'name':['decision tree (simple)','decision tree (under sampling)','decision tree (over sampling)','decision tree (smote)']}\n",
        "models = pd.DataFrame(models)\n",
        "models['accuracy']=np.nan\n",
        "models['precision score']=np.nan\n",
        "models['recall score']=np.nan\n",
        "models['f1 score']=np.nan\n",
        "models['fitting (in %)']=np.nan"
      ],
      "id": "6133f2bc",
      "execution_count": null,
      "outputs": []
    },
    {
      "cell_type": "code",
      "metadata": {
        "id": "e4c66849"
      },
      "source": [
        "def get_report(model,x_train,x_test,y_train,y_test,name):\n",
        "  model.fit(x_train,y_train)\n",
        "  y_pred=model.predict(x_test)\n",
        "  print(name,'\\n')\n",
        "  classification_report_m=classification_report(y_test,y_pred)\n",
        "  print(classification_report_m)\n",
        "  confusion_matrix=metrics.confusion_matrix(y_test,y_pred)\n",
        "  print('confusion matrix')\n",
        "  print(confusion_matrix, '\\n')\n",
        "  a=model.score(x_train,y_train)\n",
        "  b=model.score(x_test,y_test)\n",
        "  c=a-b\n",
        "  print('for understanding overfitting and underfitting')\n",
        "  print(a,' - ',b,' = ',c,'\\n')\n",
        "  accuracy=accuracy_score(y_test,y_pred)\n",
        "  print('accuracy =',accuracy)\n",
        "  precision_score_m=precision_score(y_test,y_pred)\n",
        "  print('presicion score = ',precision_score_m)\n",
        "  recall_score_m=recall_score(y_test,y_pred)\n",
        "  print('recall score =',recall_score_m)\n",
        "  f1_score_m=f1_score(y_test,y_pred)\n",
        "  print('F1 score =',f1_score_m)\n",
        "  models.loc[models['name'] == name, 'accuracy'] = accuracy\n",
        "  models.loc[models['name'] == name, 'precision score'] = precision_score_m\n",
        "  models.loc[models['name'] == name, 'recall score'] = recall_score_m\n",
        "  models.loc[models['name'] == name, 'f1 score'] = f1_score_m\n",
        "  models.loc[models['name'] == name, 'fitting (in %)'] = c*100"
      ],
      "id": "e4c66849",
      "execution_count": null,
      "outputs": []
    },
    {
      "cell_type": "code",
      "metadata": {
        "id": "fa6efa7f",
        "outputId": "7a624ed5-bbea-4e7c-e030-42e9fc0454f0"
      },
      "source": [
        "rus=RandomUnderSampler()\n",
        "x2_train,y2_train=rus.fit_resample(x_train,y_train)\n",
        "np.bincount(y2_train)\n",
        "#x21_train,x21_test,y21_train,y21_test=train_test_split(x2_train,y2_train,test_size=0.2,random_state=0)"
      ],
      "id": "fa6efa7f",
      "execution_count": null,
      "outputs": [
        {
          "output_type": "execute_result",
          "data": {
            "text/plain": [
              "array([5735, 5735], dtype=int64)"
            ]
          },
          "metadata": {
            "tags": []
          },
          "execution_count": 11
        }
      ]
    },
    {
      "cell_type": "code",
      "metadata": {
        "id": "60400dfa",
        "outputId": "eb784615-eba6-46c5-af84-b7fcfd830dd5"
      },
      "source": [
        "ros = RandomOverSampler()\n",
        "x3_train,y3_train=ros.fit_resample(x_train,y_train)\n",
        "np.bincount(y3_train)\n",
        "#x31_train,x31_test,y31_train,y31_test=train_test_split(x3_train,y3_train,test_size=0.2,random_state=0)"
      ],
      "id": "60400dfa",
      "execution_count": null,
      "outputs": [
        {
          "output_type": "execute_result",
          "data": {
            "text/plain": [
              "array([469937, 469937], dtype=int64)"
            ]
          },
          "metadata": {
            "tags": []
          },
          "execution_count": 12
        }
      ]
    },
    {
      "cell_type": "code",
      "metadata": {
        "id": "93ecc09f",
        "outputId": "d07c3743-cc03-4d8b-a9c2-9d976b488085"
      },
      "source": [
        "smt=SMOTE()\n",
        "x4_train,y4_train=smt.fit_resample(x_train,y_train)\n",
        "np.bincount(y4_train)\n",
        "#x41_train,x41_test,y41_train,y41_test=train_test_split(x4_train,y4_train,test_size=0.2,random_state=0)"
      ],
      "id": "93ecc09f",
      "execution_count": null,
      "outputs": [
        {
          "output_type": "execute_result",
          "data": {
            "text/plain": [
              "array([469937, 469937], dtype=int64)"
            ]
          },
          "metadata": {
            "tags": []
          },
          "execution_count": 13
        }
      ]
    },
    {
      "cell_type": "code",
      "metadata": {
        "id": "96424a4c"
      },
      "source": [
        "gini = DecisionTreeClassifier(random_state = 100)"
      ],
      "id": "96424a4c",
      "execution_count": null,
      "outputs": []
    },
    {
      "cell_type": "markdown",
      "metadata": {
        "id": "c1f9ac2c"
      },
      "source": [
        "# SIMPLE"
      ],
      "id": "c1f9ac2c"
    },
    {
      "cell_type": "code",
      "metadata": {
        "id": "836ae613",
        "outputId": "0ff92296-cffe-4244-ee8f-6fae55105f57"
      },
      "source": [
        "#Tuning\n",
        "from sklearn.model_selection import GridSearchCV\n",
        "params = {\n",
        "    'max_depth': [2, 3, 5, 10, 20, None],\n",
        "    'min_samples_leaf': [5, 10, 20, 50, 100,500,10000],\n",
        "    'criterion': [\"gini\", \"entropy\"]\n",
        "}\n",
        "grid_search = GridSearchCV(estimator=gini, \n",
        "                           param_grid=params, \n",
        "                           cv=10, n_jobs=-1, verbose=1, scoring = \"accuracy\")\n",
        "\n",
        "grid_search.fit(x_train, y_train)"
      ],
      "id": "836ae613",
      "execution_count": null,
      "outputs": [
        {
          "output_type": "stream",
          "text": [
            "Fitting 10 folds for each of 84 candidates, totalling 840 fits\n"
          ],
          "name": "stdout"
        },
        {
          "output_type": "execute_result",
          "data": {
            "text/plain": [
              "GridSearchCV(cv=10, estimator=DecisionTreeClassifier(random_state=100),\n",
              "             n_jobs=-1,\n",
              "             param_grid={'criterion': ['gini', 'entropy'],\n",
              "                         'max_depth': [2, 3, 5, 10, 20, None],\n",
              "                         'min_samples_leaf': [5, 10, 20, 50, 100, 500, 10000]},\n",
              "             scoring='accuracy', verbose=1)"
            ]
          },
          "metadata": {
            "tags": []
          },
          "execution_count": 15
        }
      ]
    },
    {
      "cell_type": "code",
      "metadata": {
        "id": "47500160"
      },
      "source": [
        "score_df = pd.DataFrame(grid_search.cv_results_)"
      ],
      "id": "47500160",
      "execution_count": null,
      "outputs": []
    },
    {
      "cell_type": "code",
      "metadata": {
        "id": "73d30d7a",
        "outputId": "cb3b953b-8d5d-4ffa-fffb-03bbc1905b31"
      },
      "source": [
        "print(grid_search.best_params_)"
      ],
      "id": "73d30d7a",
      "execution_count": null,
      "outputs": [
        {
          "output_type": "stream",
          "text": [
            "{'criterion': 'entropy', 'max_depth': 10, 'min_samples_leaf': 5}\n"
          ],
          "name": "stdout"
        }
      ]
    },
    {
      "cell_type": "code",
      "metadata": {
        "id": "fd7d5895",
        "outputId": "0eb26fd9-0162-4b72-b9e2-84fdc00c9198"
      },
      "source": [
        "#pruning\n",
        "max_depth=[]\n",
        "re_gini=[]\n",
        "re_entropy=[]\n",
        "for i in range(1,30):\n",
        "    dtree=DecisionTreeClassifier(criterion='gini',max_depth=i)\n",
        "    dtree.fit(x_train,y_train)\n",
        "    pred=dtree.predict(x_test)\n",
        "    \n",
        "    re_gini.append(recall_score(y_test,pred))\n",
        "    \n",
        "    dtree=DecisionTreeClassifier(criterion='entropy',max_depth=i)\n",
        "    dtree.fit(x_train,y_train)\n",
        "    pred=dtree.predict(x_test)\n",
        "    \n",
        "    re_entropy.append(recall_score(y_test,pred))\n",
        "    \n",
        "    max_depth.append(i)\n",
        "    \n",
        "    d=pd.DataFrame({'re_gini': pd.Series(re_gini),\n",
        "                    're_entropy': pd.Series(re_entropy),\n",
        "                    'max_depth': pd.Series(max_depth)})\n",
        "    \n",
        "plt.plot('max_depth','re_gini', data=d, label='gini')\n",
        "plt.plot('max_depth','re_entropy', data=d, label='entropy')\n",
        "plt.xlabel('max_depth')\n",
        "plt.ylabel('recall')\n",
        "plt.legend()"
      ],
      "id": "fd7d5895",
      "execution_count": null,
      "outputs": [
        {
          "output_type": "execute_result",
          "data": {
            "text/plain": [
              "<matplotlib.legend.Legend at 0x210c9dd3940>"
            ]
          },
          "metadata": {
            "tags": []
          },
          "execution_count": 18
        },
        {
          "output_type": "display_data",
          "data": {
            "image/png": "[encoded data removed]",
            "text/plain": [
              "<Figure size 432x288 with 1 Axes>"
            ]
          },
          "metadata": {
            "tags": [],
            "needs_background": "light"
          }
        }
      ]
    },
    {
      "cell_type": "code",
      "metadata": {
        "id": "a7ee8f23",
        "outputId": "bfeb1139-6a72-4d47-fcbb-57a8ea8b7b01"
      },
      "source": [
        "#pruning\n",
        "max_depth=[]\n",
        "re_gini=[]\n",
        "re_entropy=[]\n",
        "f1_gini=[]\n",
        "f1_entropy=[]\n",
        "for i in range(1,30):\n",
        "    dtree=DecisionTreeClassifier(criterion='gini',max_depth=i)\n",
        "    dtree.fit(x_train,y_train)\n",
        "    pred=dtree.predict(x_test)\n",
        "    \n",
        "    re_gini.append(recall_score(y_test,pred))\n",
        "    f1_gini.append(f1_score(y_test,pred))\n",
        "    \n",
        "    dtree=DecisionTreeClassifier(criterion='entropy',max_depth=i)\n",
        "    dtree.fit(x_train,y_train)\n",
        "    pred=dtree.predict(x_test)\n",
        "    \n",
        "    re_entropy.append(recall_score(y_test,pred))\n",
        "    f1_entropy.append(f1_score(y_test,pred))\n",
        "    \n",
        "    max_depth.append(i)\n",
        "    \n",
        "    d=pd.DataFrame({'re_gini': pd.Series(re_gini),\n",
        "                    're_entropy': pd.Series(re_entropy),\n",
        "                    'f1_gini': pd.Series(f1_gini),\n",
        "                    'f1_entropy': pd.Series(f1_entropy),\n",
        "                    'max_depth': pd.Series(max_depth)})\n",
        "    \n",
        "plt.plot('max_depth','re_gini', data=d, label='re_gini')\n",
        "plt.plot('max_depth','re_entropy', data=d, label='re_entropy')\n",
        "plt.plot('max_depth','f1_gini', data=d, label='f1_gini')\n",
        "plt.plot('max_depth','f1_entropy', data=d, label='f1_entropy')\n",
        "plt.xlabel('max_depth')\n",
        "plt.ylabel('recall/f1')\n",
        "plt.legend()"
      ],
      "id": "a7ee8f23",
      "execution_count": null,
      "outputs": [
        {
          "output_type": "execute_result",
          "data": {
            "text/plain": [
              "<matplotlib.legend.Legend at 0x210d5d4ce20>"
            ]
          },
          "metadata": {
            "tags": []
          },
          "execution_count": 54
        },
        {
          "output_type": "display_data",
          "data": {
            "image/png": "[encoded data removed]",
            "text/plain": [
              "<Figure size 432x288 with 1 Axes>"
            ]
          },
          "metadata": {
            "tags": [],
            "needs_background": "light"
          }
        }
      ]
    },
    {
      "cell_type": "code",
      "metadata": {
        "id": "5673ac2b",
        "outputId": "a5d378b9-a308-4c6c-f705-5bb5cc08a82a"
      },
      "source": [
        "#best-simple\n",
        "entropy = DecisionTreeClassifier(criterion= \"entropy\", max_depth= 10, min_samples_leaf= 5,random_state = 100)\n",
        "name='decision tree (simple)'\n",
        "get_report(entropy,x_train,x_test,y_train,y_test,name)"
      ],
      "id": "5673ac2b",
      "execution_count": null,
      "outputs": [
        {
          "output_type": "stream",
          "text": [
            "decision tree (simple) \n",
            "\n",
            "              precision    recall  f1-score   support\n",
            "\n",
            "           0       1.00      1.00      1.00    117454\n",
            "           1       0.89      0.73      0.80      1465\n",
            "\n",
            "    accuracy                           1.00    118919\n",
            "   macro avg       0.95      0.86      0.90    118919\n",
            "weighted avg       1.00      1.00      1.00    118919\n",
            "\n",
            "confusion matrix\n",
            "[[117327    127]\n",
            " [   399   1066]] \n",
            "\n",
            "for understanding overfitting and underfitting\n",
            "0.9961990615382028  -  0.9955768211976219  =  0.000622240340580893 \n",
            "\n",
            "accuracy = 0.9955768211976219\n",
            "presicion score =  0.8935456831517183\n",
            "recall score = 0.7276450511945393\n",
            "F1 score = 0.8021068472535742\n"
          ],
          "name": "stdout"
        }
      ]
    },
    {
      "cell_type": "code",
      "metadata": {
        "id": "1a97450a",
        "outputId": "dc9a3139-2e0d-465b-d368-6142cfd765ae"
      },
      "source": [
        "models.dropna()"
      ],
      "id": "1a97450a",
      "execution_count": null,
      "outputs": [
        {
          "output_type": "execute_result",
          "data": {
            "text/html": [
              "<div>\n",
              "<style scoped>\n",
              "    .dataframe tbody tr th:only-of-type {\n",
              "        vertical-align: middle;\n",
              "    }\n",
              "\n",
              "    .dataframe tbody tr th {\n",
              "        vertical-align: top;\n",
              "    }\n",
              "\n",
              "    .dataframe thead th {\n",
              "        text-align: right;\n",
              "    }\n",
              "</style>\n",
              "<table border=\"1\" class=\"dataframe\">\n",
              "  <thead>\n",
              "    <tr style=\"text-align: right;\">\n",
              "      <th></th>\n",
              "      <th>name</th>\n",
              "      <th>accuracy</th>\n",
              "      <th>precision score</th>\n",
              "      <th>recall score</th>\n",
              "      <th>f1 score</th>\n",
              "      <th>fitting (in %)</th>\n",
              "    </tr>\n",
              "  </thead>\n",
              "  <tbody>\n",
              "  </tbody>\n",
              "</table>\n",
              "</div>"
            ],
            "text/plain": [
              "Empty DataFrame\n",
              "Columns: [name, accuracy, precision score, recall score, f1 score, fitting (in %)]\n",
              "Index: []"
            ]
          },
          "metadata": {
            "tags": []
          },
          "execution_count": 48
        }
      ]
    },
    {
      "cell_type": "markdown",
      "metadata": {
        "id": "52259116"
      },
      "source": [
        "# UNDERSAMPLING"
      ],
      "id": "52259116"
    },
    {
      "cell_type": "code",
      "metadata": {
        "id": "280bf1a4",
        "outputId": "a3a76e44-c3cc-46ec-9847-cdcbc981c568"
      },
      "source": [
        "#Tuning\n",
        "grid_search.fit(x2_train, y2_train)"
      ],
      "id": "280bf1a4",
      "execution_count": null,
      "outputs": [
        {
          "output_type": "stream",
          "text": [
            "Fitting 10 folds for each of 84 candidates, totalling 840 fits\n"
          ],
          "name": "stdout"
        },
        {
          "output_type": "execute_result",
          "data": {
            "text/plain": [
              "GridSearchCV(cv=10, estimator=DecisionTreeClassifier(random_state=100),\n",
              "             n_jobs=-1,\n",
              "             param_grid={'criterion': ['gini', 'entropy'],\n",
              "                         'max_depth': [2, 3, 5, 10, 20, None],\n",
              "                         'min_samples_leaf': [5, 10, 20, 50, 100, 500, 10000]},\n",
              "             scoring='accuracy', verbose=1)"
            ]
          },
          "metadata": {
            "tags": []
          },
          "execution_count": 20
        }
      ]
    },
    {
      "cell_type": "code",
      "metadata": {
        "id": "8b18e451"
      },
      "source": [
        "score_df = pd.DataFrame(grid_search.cv_results_)"
      ],
      "id": "8b18e451",
      "execution_count": null,
      "outputs": []
    },
    {
      "cell_type": "code",
      "metadata": {
        "id": "3271266a",
        "outputId": "1e1b87cc-e6a6-405d-bcd2-a148ec4816d1"
      },
      "source": [
        "print(grid_search.best_params_)"
      ],
      "id": "3271266a",
      "execution_count": null,
      "outputs": [
        {
          "output_type": "stream",
          "text": [
            "{'criterion': 'gini', 'max_depth': 10, 'min_samples_leaf': 10}\n"
          ],
          "name": "stdout"
        }
      ]
    },
    {
      "cell_type": "code",
      "metadata": {
        "id": "23a874ff",
        "outputId": "95cd226e-8165-4a9f-de5f-4dfeed05773e"
      },
      "source": [
        "#pruning\n",
        "max_depth=[]\n",
        "re_gini=[]\n",
        "re_entropy=[]\n",
        "for i in range(1,30):\n",
        "    dtree=DecisionTreeClassifier(criterion='gini',max_depth=i)\n",
        "    dtree.fit(x2_train,y2_train)\n",
        "    pred=dtree.predict(x_test)\n",
        "    \n",
        "    re_gini.append(recall_score(y_test,pred))\n",
        "    \n",
        "    dtree=DecisionTreeClassifier(criterion='entropy',max_depth=i)\n",
        "    dtree.fit(x2_train,y2_train)\n",
        "    pred=dtree.predict(x_test)\n",
        "    \n",
        "    re_entropy.append(recall_score(y_test,pred))\n",
        "    \n",
        "    max_depth.append(i)\n",
        "    \n",
        "    d=pd.DataFrame({'re_gini': pd.Series(re_gini),\n",
        "                    're_entropy': pd.Series(re_entropy),\n",
        "                    'max_depth': pd.Series(max_depth)})\n",
        "    \n",
        "plt.plot('max_depth','re_gini', data=d, label='gini')\n",
        "plt.plot('max_depth','re_entropy', data=d, label='entropy')\n",
        "plt.xlabel('max_depth')\n",
        "plt.ylabel('recall')\n",
        "plt.legend()"
      ],
      "id": "23a874ff",
      "execution_count": null,
      "outputs": [
        {
          "output_type": "execute_result",
          "data": {
            "text/plain": [
              "<matplotlib.legend.Legend at 0x210c9e36070>"
            ]
          },
          "metadata": {
            "tags": []
          },
          "execution_count": 23
        },
        {
          "output_type": "display_data",
          "data": {
            "image/png": "[encoded data removed]",
            "text/plain": [
              "<Figure size 432x288 with 1 Axes>"
            ]
          },
          "metadata": {
            "tags": [],
            "needs_background": "light"
          }
        }
      ]
    },
    {
      "cell_type": "code",
      "metadata": {
        "id": "25327617",
        "outputId": "7f0f6659-f16c-45c9-8d5a-6e726489d8b2"
      },
      "source": [
        "#best-undersampling1\n",
        "gini1= DecisionTreeClassifier(criterion= \"gini\", max_depth= 10, min_samples_leaf= 10,random_state = 100)\n",
        "name='decision tree (undersampling)'\n",
        "get_report(gini1,x2_train,x_test,y2_train,y_test,name)"
      ],
      "id": "25327617",
      "execution_count": null,
      "outputs": [
        {
          "output_type": "stream",
          "text": [
            "decision tree (undersampling) \n",
            "\n",
            "              precision    recall  f1-score   support\n",
            "\n",
            "           0       1.00      0.96      0.98    117454\n",
            "           1       0.23      0.98      0.38      1465\n",
            "\n",
            "    accuracy                           0.96    118919\n",
            "   macro avg       0.62      0.97      0.68    118919\n",
            "weighted avg       0.99      0.96      0.97    118919\n",
            "\n",
            "confusion matrix\n",
            "[[112736   4718]\n",
            " [    36   1429]] \n",
            "\n",
            "for understanding overfitting and underfitting\n",
            "0.9762859633827375  -  0.9600232090750848  =  0.016262754307652783 \n",
            "\n",
            "accuracy = 0.9600232090750848\n",
            "presicion score =  0.2324711241255897\n",
            "recall score = 0.9754266211604096\n",
            "F1 score = 0.37545980031529164\n"
          ],
          "name": "stdout"
        }
      ]
    },
    {
      "cell_type": "code",
      "metadata": {
        "id": "2ef67110",
        "outputId": "ec167f0e-a7f9-48d1-a7ff-11c26e494386"
      },
      "source": [
        "models.dropna()"
      ],
      "id": "2ef67110",
      "execution_count": null,
      "outputs": [
        {
          "output_type": "execute_result",
          "data": {
            "text/html": [
              "<div>\n",
              "<style scoped>\n",
              "    .dataframe tbody tr th:only-of-type {\n",
              "        vertical-align: middle;\n",
              "    }\n",
              "\n",
              "    .dataframe tbody tr th {\n",
              "        vertical-align: top;\n",
              "    }\n",
              "\n",
              "    .dataframe thead th {\n",
              "        text-align: right;\n",
              "    }\n",
              "</style>\n",
              "<table border=\"1\" class=\"dataframe\">\n",
              "  <thead>\n",
              "    <tr style=\"text-align: right;\">\n",
              "      <th></th>\n",
              "      <th>name</th>\n",
              "      <th>accuracy</th>\n",
              "      <th>precision score</th>\n",
              "      <th>recall score</th>\n",
              "      <th>f1 score</th>\n",
              "      <th>fitting (in %)</th>\n",
              "    </tr>\n",
              "  </thead>\n",
              "  <tbody>\n",
              "  </tbody>\n",
              "</table>\n",
              "</div>"
            ],
            "text/plain": [
              "Empty DataFrame\n",
              "Columns: [name, accuracy, precision score, recall score, f1 score, fitting (in %)]\n",
              "Index: []"
            ]
          },
          "metadata": {
            "tags": []
          },
          "execution_count": 50
        }
      ]
    },
    {
      "cell_type": "markdown",
      "metadata": {
        "id": "df404dd4"
      },
      "source": [
        "# OVERSAMPLING"
      ],
      "id": "df404dd4"
    },
    {
      "cell_type": "code",
      "metadata": {
        "id": "22d30bcd",
        "outputId": "2a52d32e-bd06-4c3c-ad5c-8af31cc7af6d"
      },
      "source": [
        "#Tuning\n",
        "grid_search.fit(x3_train, y3_train)"
      ],
      "id": "22d30bcd",
      "execution_count": null,
      "outputs": [
        {
          "output_type": "stream",
          "text": [
            "Fitting 10 folds for each of 84 candidates, totalling 840 fits\n"
          ],
          "name": "stdout"
        },
        {
          "output_type": "execute_result",
          "data": {
            "text/plain": [
              "GridSearchCV(cv=10, estimator=DecisionTreeClassifier(random_state=100),\n",
              "             n_jobs=-1,\n",
              "             param_grid={'criterion': ['gini', 'entropy'],\n",
              "                         'max_depth': [2, 3, 5, 10, 20, None],\n",
              "                         'min_samples_leaf': [5, 10, 20, 50, 100, 500, 10000]},\n",
              "             scoring='accuracy', verbose=1)"
            ]
          },
          "metadata": {
            "tags": []
          },
          "execution_count": 25
        }
      ]
    },
    {
      "cell_type": "code",
      "metadata": {
        "id": "5b31ed6c"
      },
      "source": [
        "score_df = pd.DataFrame(grid_search.cv_results_)"
      ],
      "id": "5b31ed6c",
      "execution_count": null,
      "outputs": []
    },
    {
      "cell_type": "code",
      "metadata": {
        "id": "30726b64",
        "outputId": "c2e3a1f9-0495-4667-ecd8-8df1038e7182"
      },
      "source": [
        "print(grid_search.best_params_)"
      ],
      "id": "30726b64",
      "execution_count": null,
      "outputs": [
        {
          "output_type": "stream",
          "text": [
            "{'criterion': 'entropy', 'max_depth': None, 'min_samples_leaf': 5}\n"
          ],
          "name": "stdout"
        }
      ]
    },
    {
      "cell_type": "code",
      "metadata": {
        "id": "31e9802d",
        "outputId": "ec18c157-1149-4aaf-b54c-0115aa967e7f"
      },
      "source": [
        "#pruning\n",
        "max_depth=[]\n",
        "re_gini=[]\n",
        "re_entropy=[]\n",
        "for i in range(1,30):\n",
        "    dtree=DecisionTreeClassifier(criterion='gini',max_depth=i)\n",
        "    dtree.fit(x3_train,y3_train)\n",
        "    pred=dtree.predict(x_test)\n",
        "    \n",
        "    re_gini.append(recall_score(y_test,pred))\n",
        "    \n",
        "    dtree=DecisionTreeClassifier(criterion='entropy',max_depth=i)\n",
        "    dtree.fit(x3_train,y3_train)\n",
        "    pred=dtree.predict(x_test)\n",
        "    \n",
        "    re_entropy.append(recall_score(y_test,pred))\n",
        "    \n",
        "    max_depth.append(i)\n",
        "    \n",
        "    d=pd.DataFrame({'re_gini': pd.Series(re_gini),\n",
        "                   're_entropy': pd.Series(re_entropy),\n",
        "                   'max_depth': pd.Series(max_depth)})\n",
        "    \n",
        "plt.plot('max_depth','re_gini', data=d, label='gini')\n",
        "plt.plot('max_depth','re_entropy', data=d, label='entropy')\n",
        "plt.xlabel('max_depth')\n",
        "plt.ylabel('recall')\n",
        "plt.legend()"
      ],
      "id": "31e9802d",
      "execution_count": null,
      "outputs": [
        {
          "output_type": "execute_result",
          "data": {
            "text/plain": [
              "<matplotlib.legend.Legend at 0x210cb0de7c0>"
            ]
          },
          "metadata": {
            "tags": []
          },
          "execution_count": 28
        },
        {
          "output_type": "display_data",
          "data": {
            "image/png": "[encoded data removed]",
            "text/plain": [
              "<Figure size 432x288 with 1 Axes>"
            ]
          },
          "metadata": {
            "tags": [],
            "needs_background": "light"
          }
        }
      ]
    },
    {
      "cell_type": "code",
      "metadata": {
        "id": "9a3be74e",
        "outputId": "62680820-affe-43f2-bbc9-d81f6d3bebeb"
      },
      "source": [
        "#oversampling\n",
        "entropy1 = DecisionTreeClassifier(criterion= \"entropy\", max_depth= None, min_samples_leaf= 5,random_state = 100)\n",
        "\n",
        "name='decision tree (oversampling)'\n",
        "get_report(entropy1,x3_train,x_test,y3_train,y_test,name)"
      ],
      "id": "9a3be74e",
      "execution_count": null,
      "outputs": [
        {
          "output_type": "stream",
          "text": [
            "decision tree (oversampling) \n",
            "\n",
            "              precision    recall  f1-score   support\n",
            "\n",
            "           0       1.00      1.00      1.00    117454\n",
            "           1       0.67      0.82      0.74      1465\n",
            "\n",
            "    accuracy                           0.99    118919\n",
            "   macro avg       0.84      0.91      0.87    118919\n",
            "weighted avg       0.99      0.99      0.99    118919\n",
            "\n",
            "confusion matrix\n",
            "[[116871    583]\n",
            " [   266   1199]] \n",
            "\n",
            "for understanding overfitting and underfitting\n",
            "0.998711529417773  -  0.9928606866858954  =  0.005850842731877526 \n",
            "\n",
            "accuracy = 0.9928606866858954\n",
            "presicion score =  0.6728395061728395\n",
            "recall score = 0.8184300341296928\n",
            "F1 score = 0.7385278718817369\n"
          ],
          "name": "stdout"
        }
      ]
    },
    {
      "cell_type": "code",
      "metadata": {
        "id": "a584b27f",
        "outputId": "1eacda87-7daa-4dda-e052-cafe1ca25b9a"
      },
      "source": [
        "models"
      ],
      "id": "a584b27f",
      "execution_count": null,
      "outputs": [
        {
          "output_type": "execute_result",
          "data": {
            "text/html": [
              "<div>\n",
              "<style scoped>\n",
              "    .dataframe tbody tr th:only-of-type {\n",
              "        vertical-align: middle;\n",
              "    }\n",
              "\n",
              "    .dataframe tbody tr th {\n",
              "        vertical-align: top;\n",
              "    }\n",
              "\n",
              "    .dataframe thead th {\n",
              "        text-align: right;\n",
              "    }\n",
              "</style>\n",
              "<table border=\"1\" class=\"dataframe\">\n",
              "  <thead>\n",
              "    <tr style=\"text-align: right;\">\n",
              "      <th></th>\n",
              "      <th>name</th>\n",
              "      <th>accuracy</th>\n",
              "      <th>precision score</th>\n",
              "      <th>recall score</th>\n",
              "      <th>f1 score</th>\n",
              "      <th>fitting (in %)</th>\n",
              "    </tr>\n",
              "  </thead>\n",
              "  <tbody>\n",
              "    <tr>\n",
              "      <th>0</th>\n",
              "      <td>decision tree</td>\n",
              "      <td>NaN</td>\n",
              "      <td>NaN</td>\n",
              "      <td>NaN</td>\n",
              "      <td>NaN</td>\n",
              "      <td>NaN</td>\n",
              "    </tr>\n",
              "    <tr>\n",
              "      <th>1</th>\n",
              "      <td>decision tree (under sampling)</td>\n",
              "      <td>NaN</td>\n",
              "      <td>NaN</td>\n",
              "      <td>NaN</td>\n",
              "      <td>NaN</td>\n",
              "      <td>NaN</td>\n",
              "    </tr>\n",
              "    <tr>\n",
              "      <th>2</th>\n",
              "      <td>decision tree (over sampling)</td>\n",
              "      <td>NaN</td>\n",
              "      <td>NaN</td>\n",
              "      <td>NaN</td>\n",
              "      <td>NaN</td>\n",
              "      <td>NaN</td>\n",
              "    </tr>\n",
              "    <tr>\n",
              "      <th>3</th>\n",
              "      <td>decision tree (smote)</td>\n",
              "      <td>NaN</td>\n",
              "      <td>NaN</td>\n",
              "      <td>NaN</td>\n",
              "      <td>NaN</td>\n",
              "      <td>NaN</td>\n",
              "    </tr>\n",
              "  </tbody>\n",
              "</table>\n",
              "</div>"
            ],
            "text/plain": [
              "                             name  accuracy  precision score  recall score  \\\n",
              "0                   decision tree       NaN              NaN           NaN   \n",
              "1  decision tree (under sampling)       NaN              NaN           NaN   \n",
              "2   decision tree (over sampling)       NaN              NaN           NaN   \n",
              "3           decision tree (smote)       NaN              NaN           NaN   \n",
              "\n",
              "   f1 score  fitting (in %)  \n",
              "0       NaN             NaN  \n",
              "1       NaN             NaN  \n",
              "2       NaN             NaN  \n",
              "3       NaN             NaN  "
            ]
          },
          "metadata": {
            "tags": []
          },
          "execution_count": 44
        }
      ]
    },
    {
      "cell_type": "markdown",
      "metadata": {
        "id": "18be35d0"
      },
      "source": [
        "# SMOTE"
      ],
      "id": "18be35d0"
    },
    {
      "cell_type": "code",
      "metadata": {
        "id": "7e6ff575",
        "outputId": "b1437c68-46a3-4ab9-8d3b-923bb1b50fed"
      },
      "source": [
        "#Tuning\n",
        "grid_search.fit(x4_train, y4_train)"
      ],
      "id": "7e6ff575",
      "execution_count": null,
      "outputs": [
        {
          "output_type": "stream",
          "text": [
            "Fitting 10 folds for each of 84 candidates, totalling 840 fits\n"
          ],
          "name": "stdout"
        },
        {
          "output_type": "execute_result",
          "data": {
            "text/plain": [
              "GridSearchCV(cv=10, estimator=DecisionTreeClassifier(random_state=100),\n",
              "             n_jobs=-1,\n",
              "             param_grid={'criterion': ['gini', 'entropy'],\n",
              "                         'max_depth': [2, 3, 5, 10, 20, None],\n",
              "                         'min_samples_leaf': [5, 10, 20, 50, 100, 500, 10000]},\n",
              "             scoring='accuracy', verbose=1)"
            ]
          },
          "metadata": {
            "tags": []
          },
          "execution_count": 30
        }
      ]
    },
    {
      "cell_type": "code",
      "metadata": {
        "id": "6185c0cc"
      },
      "source": [
        "score_df = pd.DataFrame(grid_search.cv_results_)"
      ],
      "id": "6185c0cc",
      "execution_count": null,
      "outputs": []
    },
    {
      "cell_type": "code",
      "metadata": {
        "id": "62a99d12",
        "outputId": "2ea9c6d9-8e84-474d-b45e-87801f380554"
      },
      "source": [
        "print(grid_search.best_params_)"
      ],
      "id": "62a99d12",
      "execution_count": null,
      "outputs": [
        {
          "output_type": "stream",
          "text": [
            "{'criterion': 'entropy', 'max_depth': None, 'min_samples_leaf': 5}\n"
          ],
          "name": "stdout"
        }
      ]
    },
    {
      "cell_type": "code",
      "metadata": {
        "id": "ef893562",
        "outputId": "6a32e666-d461-4ffe-a957-ae304a4f7b10"
      },
      "source": [
        "#pruning\n",
        "max_depth=[]\n",
        "re_gini=[]\n",
        "re_entropy=[]\n",
        "for i in range(1,30):\n",
        "    dtree=DecisionTreeClassifier(criterion='gini',max_depth=i)\n",
        "    dtree.fit(x4_train,y4_train)\n",
        "    pred=dtree.predict(x_test)\n",
        "    \n",
        "    re_gini.append(recall_score(y_test,pred))\n",
        "    \n",
        "    dtree=DecisionTreeClassifier(criterion='entropy',max_depth=i)\n",
        "    dtree.fit(x4_train,y4_train)\n",
        "    pred=dtree.predict(x_test)\n",
        "    \n",
        "    re_entropy.append(recall_score(y_test,pred))\n",
        "    \n",
        "    max_depth.append(i)\n",
        "    \n",
        "    d=pd.DataFrame({'re_gini': pd.Series(re_gini),\n",
        "                   're_entropy': pd.Series(re_entropy),\n",
        "                   'max_depth': pd.Series(max_depth)})\n",
        "    \n",
        "plt.plot('max_depth','re_gini', data=d, label='gini')\n",
        "plt.plot('max_depth','re_entropy', data=d, label='entropy')\n",
        "plt.xlabel('max_depth')\n",
        "plt.ylabel('recall')\n",
        "plt.legend()"
      ],
      "id": "ef893562",
      "execution_count": null,
      "outputs": [
        {
          "output_type": "execute_result",
          "data": {
            "text/plain": [
              "<matplotlib.legend.Legend at 0x210d1f017c0>"
            ]
          },
          "metadata": {
            "tags": []
          },
          "execution_count": 33
        },
        {
          "output_type": "display_data",
          "data": {
            "image/png": "[encoded data removed]",
            "text/plain": [
              "<Figure size 432x288 with 1 Axes>"
            ]
          },
          "metadata": {
            "tags": [],
            "needs_background": "light"
          }
        }
      ]
    },
    {
      "cell_type": "code",
      "metadata": {
        "id": "564fa3bb",
        "outputId": "4088f815-df7f-411e-fa7f-79ab2b9c3be4"
      },
      "source": [
        "#smote\n",
        "entropy2 = DecisionTreeClassifier(criterion= \"entropy\", max_depth= None, min_samples_leaf= 5,random_state = 100)\n",
        "name='decision tree (smote)'\n",
        "get_report(entropy2,x4_train,x_test,y4_train,y_test,name)"
      ],
      "id": "564fa3bb",
      "execution_count": null,
      "outputs": [
        {
          "output_type": "stream",
          "text": [
            "decision tree (smote) \n",
            "\n",
            "              precision    recall  f1-score   support\n",
            "\n",
            "           0       1.00      0.99      1.00    117454\n",
            "           1       0.59      0.85      0.69      1465\n",
            "\n",
            "    accuracy                           0.99    118919\n",
            "   macro avg       0.79      0.92      0.84    118919\n",
            "weighted avg       0.99      0.99      0.99    118919\n",
            "\n",
            "confusion matrix\n",
            "[[116578    876]\n",
            " [   224   1241]] \n",
            "\n",
            "for understanding overfitting and underfitting\n",
            "0.9965878404977688  -  0.9907500063068139  =  0.00583783419095496 \n",
            "\n",
            "accuracy = 0.9907500063068139\n",
            "presicion score =  0.5862068965517241\n",
            "recall score = 0.847098976109215\n",
            "F1 score = 0.6929089893914014\n"
          ],
          "name": "stdout"
        }
      ]
    },
    {
      "cell_type": "code",
      "metadata": {
        "id": "b2de5f63",
        "outputId": "423d2d04-091c-4f8f-a47f-5963fc6a26b9"
      },
      "source": [
        "models.dropna()"
      ],
      "id": "b2de5f63",
      "execution_count": null,
      "outputs": [
        {
          "output_type": "execute_result",
          "data": {
            "text/html": [
              "<div>\n",
              "<style scoped>\n",
              "    .dataframe tbody tr th:only-of-type {\n",
              "        vertical-align: middle;\n",
              "    }\n",
              "\n",
              "    .dataframe tbody tr th {\n",
              "        vertical-align: top;\n",
              "    }\n",
              "\n",
              "    .dataframe thead th {\n",
              "        text-align: right;\n",
              "    }\n",
              "</style>\n",
              "<table border=\"1\" class=\"dataframe\">\n",
              "  <thead>\n",
              "    <tr style=\"text-align: right;\">\n",
              "      <th></th>\n",
              "      <th>name</th>\n",
              "      <th>accuracy</th>\n",
              "      <th>precision score</th>\n",
              "      <th>recall score</th>\n",
              "      <th>f1 score</th>\n",
              "      <th>fitting (in %)</th>\n",
              "    </tr>\n",
              "  </thead>\n",
              "  <tbody>\n",
              "  </tbody>\n",
              "</table>\n",
              "</div>"
            ],
            "text/plain": [
              "Empty DataFrame\n",
              "Columns: [name, accuracy, precision score, recall score, f1 score, fitting (in %)]\n",
              "Index: []"
            ]
          },
          "metadata": {
            "tags": []
          },
          "execution_count": 46
        }
      ]
    },
    {
      "cell_type": "markdown",
      "metadata": {
        "id": "7e9296b2"
      },
      "source": [
        "# FUNCTION-(PLSS CHECK)"
      ],
      "id": "7e9296b2"
    },
    {
      "cell_type": "code",
      "metadata": {
        "id": "fbb19ae3"
      },
      "source": [
        "#pruning\n",
        "def pruning_re(x,y,z,u):\n",
        " max_depth=[]\n",
        " re_gini=[]\n",
        " re_entropy=[]\n",
        " for i in range(1,30):\n",
        "     dtree=DecisionTreeClassifier(criterion='gini',max_depth=i)\n",
        "     dtree.fit(x,y)\n",
        "     pred=dtree.predict(z)\n",
        "    \n",
        "     re_gini.append(recall_score(u,pred))\n",
        "    \n",
        "     dtree=DecisionTreeClassifier(criterion='entropy',max_depth=i)\n",
        "     dtree.fit(x,y)\n",
        "     pred=dtree.predict(z)\n",
        "    \n",
        "     re_entropy.append(recall_score(u,pred))\n",
        "    \n",
        "     max_depth.append(i)\n",
        "    \n",
        "     d=pd.DataFrame({'re_gini': pd.Series(re_gini),\n",
        "                   're_entropy': pd.Series(re_entropy),\n",
        "                   'max_depth': pd.Series(max_depth)})\n",
        "    \n",
        " plt.plot('max_depth','re_gini', data=d, label='gini')\n",
        " plt.plot('max_depth','re_entropy', data=d, label='entropy')\n",
        " plt.xlabel('max_depth')\n",
        " plt.ylabel('recall')\n",
        " plt.legend()"
      ],
      "id": "fbb19ae3",
      "execution_count": null,
      "outputs": []
    },
    {
      "cell_type": "code",
      "metadata": {
        "id": "5985f99f",
        "outputId": "a8d81344-375d-4ee5-8746-e20e2f641eff"
      },
      "source": [
        "pruning_re(x4_train,y4_train,x_test,y_test)"
      ],
      "id": "5985f99f",
      "execution_count": null,
      "outputs": [
        {
          "output_type": "display_data",
          "data": {
            "image/png": "[encoded data removed]",
            "text/plain": [
              "<Figure size 432x288 with 1 Axes>"
            ]
          },
          "metadata": {
            "tags": [],
            "needs_background": "light"
          }
        }
      ]
    },
    {
      "cell_type": "code",
      "metadata": {
        "id": "06f9fc2f"
      },
      "source": [
        "#pruning\n",
        "def pruning_f1(x,y,z,u):\n",
        " max_depth=[]\n",
        " f1_gini=[]\n",
        " f1_entropy=[]\n",
        " for i in range(1,30):\n",
        "     dtree=DecisionTreeClassifier(criterion='gini',max_depth=i)\n",
        "     dtree.fit(x,y)\n",
        "     pred=dtree.predict(z)\n",
        "    \n",
        "     f1_gini.append(f1_score(u,pred))\n",
        "    \n",
        "     dtree=DecisionTreeClassifier(criterion='entropy',max_depth=i)\n",
        "     dtree.fit(x,y)\n",
        "     pred=dtree.predict(z)\n",
        "    \n",
        "     f1_entropy.append(f1_score(u,pred))\n",
        "    \n",
        "     max_depth.append(i)\n",
        "    \n",
        "     d=pd.DataFrame({'f1_gini': pd.Series(f1_gini),\n",
        "                   'f1_entropy': pd.Series(f1_entropy),\n",
        "                   'max_depth': pd.Series(max_depth)})\n",
        "    \n",
        " plt.plot('max_depth','f1_gini', data=d, label='gini')\n",
        " plt.plot('max_depth','f1_entropy', data=d, label='entropy')\n",
        " plt.xlabel('max_depth')\n",
        " plt.ylabel('f1-score')\n",
        " plt.legend()"
      ],
      "id": "06f9fc2f",
      "execution_count": null,
      "outputs": []
    }
  ]
}