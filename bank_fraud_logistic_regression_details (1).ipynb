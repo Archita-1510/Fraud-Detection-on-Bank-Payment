{
  "nbformat": 4,
  "nbformat_minor": 0,
  "metadata": {
    "colab": {
      "name": "bank_fraud logistic regression details.ipynb",
      "provenance": [],
      "collapsed_sections": []
    },
    "kernelspec": {
      "name": "python3",
      "display_name": "Python 3"
    },
    "language_info": {
      "name": "python"
    }
  },
  "cells": [
    {
      "cell_type": "code",
      "metadata": {
        "colab": {
          "resources": {
            "http://localhost:8080/nbextensions/google.colab/files.js": {
              "data": "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",
              "ok": true,
              "headers": [
                [
                  "content-type",
                  "application/javascript"
                ]
              ],
              "status": 200,
              "status_text": ""
            }
          },
          "base_uri": "https://localhost:8080/",
          "height": 72
        },
        "id": "4b07ZaX1SSr9",
        "outputId": "a907b16c-8bf6-4063-87f3-d7f519c84668"
      },
      "source": [
        "from google.colab import files\n",
        "upload=files.upload()"
      ],
      "execution_count": 50,
      "outputs": [
        {
          "output_type": "display_data",
          "data": {
            "text/html": [
              "\n",
              "     <input type=\"file\" id=\"files-fe490b9b-dfe5-4048-a1cb-8c62f33e38bb\" name=\"files[]\" multiple disabled\n",
              "        style=\"border:none\" />\n",
              "     <output id=\"result-fe490b9b-dfe5-4048-a1cb-8c62f33e38bb\">\n",
              "      Upload widget is only available when the cell has been executed in the\n",
              "      current browser session. Please rerun this cell to enable.\n",
              "      </output>\n",
              "      <script src=\"/nbextensions/google.colab/files.js\"></script> "
            ],
            "text/plain": [
              "<IPython.core.display.HTML object>"
            ]
          },
          "metadata": {
            "tags": []
          }
        },
        {
          "output_type": "stream",
          "text": [
            "Saving fraud payment data.csv to fraud payment data (1).csv\n"
          ],
          "name": "stdout"
        }
      ]
    },
    {
      "cell_type": "code",
      "metadata": {
        "id": "zPkEEjBVSZzC"
      },
      "source": [
        "import pandas as pd\n",
        "import numpy as np\n",
        "import matplotlib.pyplot as plt\n",
        "import seaborn as sns\n",
        "\n",
        "from imblearn.under_sampling import RandomUnderSampler\n",
        "from imblearn.over_sampling import (SMOTE, RandomOverSampler)\n",
        "from imblearn.combine import SMOTEENN, SMOTETomek\n",
        "\n",
        "from sklearn.preprocessing import LabelEncoder, StandardScaler\n",
        "from sklearn.model_selection import train_test_split\n",
        "from sklearn import metrics\n",
        "from sklearn.metrics import classification_report, recall_score, precision_score, accuracy_score, f1_score\n",
        "from sklearn.linear_model import LogisticRegression\n",
        "\n",
        "import io\n",
        "df = pd.read_csv(io.BytesIO(upload['fraud payment data.csv']),encoding='latin-1')"
      ],
      "execution_count": 51,
      "outputs": []
    },
    {
      "cell_type": "code",
      "metadata": {
        "colab": {
          "base_uri": "https://localhost:8080/",
          "height": 204
        },
        "id": "84p1rQGESh8K",
        "outputId": "eeba5751-0a7d-4b47-ec94-78a39eaa69c6"
      },
      "source": [
        "encoder=LabelEncoder()\n",
        "df['customer']=encoder.fit_transform(df['customer'])\n",
        "df['age']=encoder.fit_transform(df['age'])\n",
        "df['gender']=encoder.fit_transform(df['gender'])\n",
        "df['merchant']=encoder.fit_transform(df['merchant'])\n",
        "df['category']=encoder.fit_transform(df['category'])\n",
        "df.drop(['zipcodeOri','zipMerchant'],axis=1,inplace=True)\n",
        "df=df.query('amount>0')\n",
        "df.head()"
      ],
      "execution_count": 52,
      "outputs": [
        {
          "output_type": "execute_result",
          "data": {
            "text/html": [
              "<div>\n",
              "<style scoped>\n",
              "    .dataframe tbody tr th:only-of-type {\n",
              "        vertical-align: middle;\n",
              "    }\n",
              "\n",
              "    .dataframe tbody tr th {\n",
              "        vertical-align: top;\n",
              "    }\n",
              "\n",
              "    .dataframe thead th {\n",
              "        text-align: right;\n",
              "    }\n",
              "</style>\n",
              "<table border=\"1\" class=\"dataframe\">\n",
              "  <thead>\n",
              "    <tr style=\"text-align: right;\">\n",
              "      <th></th>\n",
              "      <th>step</th>\n",
              "      <th>customer</th>\n",
              "      <th>age</th>\n",
              "      <th>gender</th>\n",
              "      <th>merchant</th>\n",
              "      <th>category</th>\n",
              "      <th>amount</th>\n",
              "      <th>fraud</th>\n",
              "    </tr>\n",
              "  </thead>\n",
              "  <tbody>\n",
              "    <tr>\n",
              "      <th>0</th>\n",
              "      <td>0</td>\n",
              "      <td>210</td>\n",
              "      <td>4</td>\n",
              "      <td>2</td>\n",
              "      <td>30</td>\n",
              "      <td>12</td>\n",
              "      <td>4.55</td>\n",
              "      <td>0</td>\n",
              "    </tr>\n",
              "    <tr>\n",
              "      <th>1</th>\n",
              "      <td>0</td>\n",
              "      <td>2753</td>\n",
              "      <td>2</td>\n",
              "      <td>2</td>\n",
              "      <td>30</td>\n",
              "      <td>12</td>\n",
              "      <td>39.68</td>\n",
              "      <td>0</td>\n",
              "    </tr>\n",
              "    <tr>\n",
              "      <th>2</th>\n",
              "      <td>0</td>\n",
              "      <td>2285</td>\n",
              "      <td>4</td>\n",
              "      <td>1</td>\n",
              "      <td>18</td>\n",
              "      <td>12</td>\n",
              "      <td>26.89</td>\n",
              "      <td>0</td>\n",
              "    </tr>\n",
              "    <tr>\n",
              "      <th>3</th>\n",
              "      <td>0</td>\n",
              "      <td>1650</td>\n",
              "      <td>3</td>\n",
              "      <td>2</td>\n",
              "      <td>30</td>\n",
              "      <td>12</td>\n",
              "      <td>17.25</td>\n",
              "      <td>0</td>\n",
              "    </tr>\n",
              "    <tr>\n",
              "      <th>4</th>\n",
              "      <td>0</td>\n",
              "      <td>3585</td>\n",
              "      <td>5</td>\n",
              "      <td>2</td>\n",
              "      <td>30</td>\n",
              "      <td>12</td>\n",
              "      <td>35.72</td>\n",
              "      <td>0</td>\n",
              "    </tr>\n",
              "  </tbody>\n",
              "</table>\n",
              "</div>"
            ],
            "text/plain": [
              "   step  customer  age  gender  merchant  category  amount  fraud\n",
              "0     0       210    4       2        30        12    4.55      0\n",
              "1     0      2753    2       2        30        12   39.68      0\n",
              "2     0      2285    4       1        18        12   26.89      0\n",
              "3     0      1650    3       2        30        12   17.25      0\n",
              "4     0      3585    5       2        30        12   35.72      0"
            ]
          },
          "metadata": {
            "tags": []
          },
          "execution_count": 52
        }
      ]
    },
    {
      "cell_type": "code",
      "metadata": {
        "colab": {
          "base_uri": "https://localhost:8080/"
        },
        "id": "ZD8DC7VMTu1D",
        "outputId": "679746cf-8aaa-450b-d0f6-819ee964e159"
      },
      "source": [
        "fraud = df[df['fraud']==1]\n",
        "non_fraud = df[df['fraud']==0]\n",
        "print(fraud.shape , non_fraud.shape)"
      ],
      "execution_count": 53,
      "outputs": [
        {
          "output_type": "stream",
          "text": [
            "(7200, 8) (587391, 8)\n"
          ],
          "name": "stdout"
        }
      ]
    },
    {
      "cell_type": "code",
      "metadata": {
        "colab": {
          "base_uri": "https://localhost:8080/"
        },
        "id": "kaPwu1-iT2tr",
        "outputId": "14aa4f3f-8520-4fed-b90c-a7fb3de4f645"
      },
      "source": [
        "x=df.drop('fraud',axis=1)\n",
        "y=df['fraud']\n",
        "print(x.head())\n",
        "print(y.head())"
      ],
      "execution_count": 54,
      "outputs": [
        {
          "output_type": "stream",
          "text": [
            "   step  customer  age  gender  merchant  category  amount\n",
            "0     0       210    4       2        30        12    4.55\n",
            "1     0      2753    2       2        30        12   39.68\n",
            "2     0      2285    4       1        18        12   26.89\n",
            "3     0      1650    3       2        30        12   17.25\n",
            "4     0      3585    5       2        30        12   35.72\n",
            "0    0\n",
            "1    0\n",
            "2    0\n",
            "3    0\n",
            "4    0\n",
            "Name: fraud, dtype: int64\n"
          ],
          "name": "stdout"
        }
      ]
    },
    {
      "cell_type": "code",
      "metadata": {
        "id": "kX5xKNrET6sm"
      },
      "source": [
        "x_new=pd.DataFrame(data=df,columns=['amount','category','merchant','gender','age','customer'])\n",
        "x_train,x_test,y_train,y_test=train_test_split(x_new,y,test_size=0.2,random_state=0)"
      ],
      "execution_count": 55,
      "outputs": []
    },
    {
      "cell_type": "code",
      "metadata": {
        "id": "W-bUOWpZUB5x"
      },
      "source": [
        "def get_report(model,x_train,x_test,y_train,y_test,name,THRESHOLD):\n",
        "  model.fit(x_train,y_train)\n",
        "  y_pred=np.where(model.predict_proba(x_test)[:,1] > THRESHOLD, 1, 0)\n",
        "  print(name,'\\n')\n",
        "  classification_report_m=classification_report(y_test,y_pred)\n",
        "  print(classification_report_m)\n",
        "  confusion_matrix=metrics.confusion_matrix(y_test,y_pred)\n",
        "  print('confusion matrix')\n",
        "  print(confusion_matrix, '\\n')\n",
        "  print('\\n')\n",
        "  print('for test data')\n",
        "  accuracy=accuracy_score(y_test,y_pred)\n",
        "  print('accuracy =',accuracy)\n",
        "  precision_score_m=precision_score(y_test,y_pred)\n",
        "  print('presicion score = ',precision_score_m)\n",
        "  recall_score_m=recall_score(y_test,y_pred)\n",
        "  print('recall score =',recall_score_m)\n",
        "  f1_score_m=f1_score(y_test,y_pred)\n",
        "  print('F1 score =',f1_score_m)\n",
        "  print('\\n')\n",
        "  print('for train data')\n",
        "  y_pred_train=np.where(model.predict_proba(x_train)[:,1] > THRESHOLD, 1, 0)\n",
        "  accuracy_t=accuracy_score(y_train,y_pred_train)\n",
        "  print('accuracy =',accuracy_t)\n",
        "  precision_score_m_t=precision_score(y_train,y_pred_train)\n",
        "  print('presicion score = ',precision_score_m_t)\n",
        "  recall_score_m_t=recall_score(y_train,y_pred_train)\n",
        "  print('recall score =',recall_score_m_t)\n",
        "  f1_score_m_t=f1_score(y_train,y_pred_train)\n",
        "  print('F1 score =',f1_score_m_t)\n",
        "  print('\\n')\n",
        "  print('to understand whether our model is overfitting or underfitting, we can check the f1 scores')\n",
        "  print(f1_score_m_t,' - ',f1_score_m,' = ',f1_score_m_t-f1_score_m)\n",
        "  print('in percentage = ',(f1_score_m_t-f1_score_m)*100)\n",
        "  "
      ],
      "execution_count": 56,
      "outputs": []
    },
    {
      "cell_type": "code",
      "metadata": {
        "colab": {
          "base_uri": "https://localhost:8080/"
        },
        "id": "HZxyv7_NW_PB",
        "outputId": "41f2fc25-70ff-4a47-fcc6-fd9512c0faad"
      },
      "source": [
        "log_reg=LogisticRegression(max_iter=1000)\n",
        "name='logistic regression on unbalanced data with threshold=0.5'\n",
        "THRESHOLD=0.5\n",
        "get_report(log_reg,x_train,x_test,y_train,y_test,name,THRESHOLD)"
      ],
      "execution_count": 57,
      "outputs": [
        {
          "output_type": "stream",
          "text": [
            "logistic regression on unbalanced data with threshold=0.5 \n",
            "\n",
            "              precision    recall  f1-score   support\n",
            "\n",
            "           0       0.99      1.00      1.00    117454\n",
            "           1       0.88      0.58      0.70      1465\n",
            "\n",
            "    accuracy                           0.99    118919\n",
            "   macro avg       0.94      0.79      0.85    118919\n",
            "weighted avg       0.99      0.99      0.99    118919\n",
            "\n",
            "confusion matrix\n",
            "[[117336    118]\n",
            " [   618    847]] \n",
            "\n",
            "\n",
            "\n",
            "for test data\n",
            "accuracy = 0.9938109133107409\n",
            "presicion score =  0.877720207253886\n",
            "recall score = 0.5781569965870307\n",
            "F1 score = 0.697119341563786\n",
            "\n",
            "\n",
            "for train data\n",
            "accuracy = 0.9939433054709969\n",
            "presicion score =  0.8775132275132275\n",
            "recall score = 0.5783783783783784\n",
            "F1 score = 0.6972149238045192\n",
            "\n",
            "\n",
            "to understand whether our model is overfitting or underfitting, we can check the f1 scores\n",
            "0.6972149238045192  -  0.697119341563786  =  9.558224073324961e-05\n",
            "in percentage =  0.009558224073324961\n"
          ],
          "name": "stdout"
        }
      ]
    },
    {
      "cell_type": "code",
      "metadata": {
        "colab": {
          "base_uri": "https://localhost:8080/"
        },
        "id": "4-l2UvWicXxh",
        "outputId": "fb36ea45-28d4-460d-f0ba-788794dc3629"
      },
      "source": [
        "name='logistic regression on unbalanced data with threshold=0.1'\n",
        "THRESHOLD=0.1\n",
        "get_report(log_reg,x_train,x_test,y_train,y_test,name,THRESHOLD)"
      ],
      "execution_count": 58,
      "outputs": [
        {
          "output_type": "stream",
          "text": [
            "logistic regression on unbalanced data with threshold=0.1 \n",
            "\n",
            "              precision    recall  f1-score   support\n",
            "\n",
            "           0       1.00      0.99      1.00    117454\n",
            "           1       0.62      0.72      0.67      1465\n",
            "\n",
            "    accuracy                           0.99    118919\n",
            "   macro avg       0.81      0.86      0.83    118919\n",
            "weighted avg       0.99      0.99      0.99    118919\n",
            "\n",
            "confusion matrix\n",
            "[[116817    637]\n",
            " [   412   1053]] \n",
            "\n",
            "\n",
            "\n",
            "for test data\n",
            "accuracy = 0.9911788696507707\n",
            "presicion score =  0.6230769230769231\n",
            "recall score = 0.7187713310580205\n",
            "F1 score = 0.6675118858954041\n",
            "\n",
            "\n",
            "for train data\n",
            "accuracy = 0.9916749356699575\n",
            "presicion score =  0.6350220599421877\n",
            "recall score = 0.7278116826503923\n",
            "F1 score = 0.6782580435489113\n",
            "\n",
            "\n",
            "to understand whether our model is overfitting or underfitting, we can check the f1 scores\n",
            "0.6782580435489113  -  0.6675118858954041  =  0.010746157653507171\n",
            "in percentage =  1.0746157653507171\n"
          ],
          "name": "stdout"
        }
      ]
    },
    {
      "cell_type": "code",
      "metadata": {
        "colab": {
          "base_uri": "https://localhost:8080/"
        },
        "id": "Z75VEeRjC-mf",
        "outputId": "588c3f5b-e600-40a4-d8b5-1afff5fca2fe"
      },
      "source": [
        "name='logistic regression on unbalanced data with threshold=0.24'\n",
        "THRESHOLD=0.24\n",
        "get_report(log_reg,x_train,x_test,y_train,y_test,name,THRESHOLD)"
      ],
      "execution_count": 59,
      "outputs": [
        {
          "output_type": "stream",
          "text": [
            "logistic regression on unbalanced data with threshold=0.24 \n",
            "\n",
            "              precision    recall  f1-score   support\n",
            "\n",
            "           0       1.00      1.00      1.00    117454\n",
            "           1       0.76      0.65      0.70      1465\n",
            "\n",
            "    accuracy                           0.99    118919\n",
            "   macro avg       0.88      0.82      0.85    118919\n",
            "weighted avg       0.99      0.99      0.99    118919\n",
            "\n",
            "confusion matrix\n",
            "[[117150    304]\n",
            " [   513    952]] \n",
            "\n",
            "\n",
            "\n",
            "for test data\n",
            "accuracy = 0.9931297774115154\n",
            "presicion score =  0.7579617834394905\n",
            "recall score = 0.6498293515358362\n",
            "F1 score = 0.6997427416391033\n",
            "\n",
            "\n",
            "for train data\n",
            "accuracy = 0.9935417682773003\n",
            "presicion score =  0.7723460830435672\n",
            "recall score = 0.658413251961639\n",
            "F1 score = 0.7108433734939759\n",
            "\n",
            "\n",
            "to understand whether our model is overfitting or underfitting, we can check the f1 scores\n",
            "0.7108433734939759  -  0.6997427416391033  =  0.011100631854872534\n",
            "in percentage =  1.1100631854872534\n"
          ],
          "name": "stdout"
        }
      ]
    },
    {
      "cell_type": "code",
      "metadata": {
        "colab": {
          "base_uri": "https://localhost:8080/"
        },
        "id": "T1ssiuIqZeUm",
        "outputId": "be14ae99-97cd-44aa-94a6-7e92f4dcbe22"
      },
      "source": [
        "name='logistic regression on unbalanced data with threshold=0.25'\n",
        "THRESHOLD=0.25\n",
        "get_report(log_reg,x_train,x_test,y_train,y_test,name,THRESHOLD)"
      ],
      "execution_count": 60,
      "outputs": [
        {
          "output_type": "stream",
          "text": [
            "logistic regression on unbalanced data with threshold=0.25 \n",
            "\n",
            "              precision    recall  f1-score   support\n",
            "\n",
            "           0       1.00      1.00      1.00    117454\n",
            "           1       0.77      0.65      0.70      1465\n",
            "\n",
            "    accuracy                           0.99    118919\n",
            "   macro avg       0.88      0.82      0.85    118919\n",
            "weighted avg       0.99      0.99      0.99    118919\n",
            "\n",
            "confusion matrix\n",
            "[[117172    282]\n",
            " [   518    947]] \n",
            "\n",
            "\n",
            "\n",
            "for test data\n",
            "accuracy = 0.993272731859501\n",
            "presicion score =  0.7705451586655818\n",
            "recall score = 0.6464163822525597\n",
            "F1 score = 0.7030438010393467\n",
            "\n",
            "\n",
            "for train data\n",
            "accuracy = 0.9935396659883281\n",
            "presicion score =  0.77579776212184\n",
            "recall score = 0.6528334786399302\n",
            "F1 score = 0.7090237666887604\n",
            "\n",
            "\n",
            "to understand whether our model is overfitting or underfitting, we can check the f1 scores\n",
            "0.7090237666887604  -  0.7030438010393467  =  0.005979965649413721\n",
            "in percentage =  0.5979965649413721\n"
          ],
          "name": "stdout"
        }
      ]
    },
    {
      "cell_type": "code",
      "metadata": {
        "colab": {
          "base_uri": "https://localhost:8080/"
        },
        "id": "z8kXg5T-Dyng",
        "outputId": "24ff5337-62bb-40ce-83c5-bdab413e67bf"
      },
      "source": [
        "name='logistic regression on unbalanced data with threshold=0.26'\n",
        "THRESHOLD=0.26\n",
        "get_report(log_reg,x_train,x_test,y_train,y_test,name,THRESHOLD)"
      ],
      "execution_count": 61,
      "outputs": [
        {
          "output_type": "stream",
          "text": [
            "logistic regression on unbalanced data with threshold=0.26 \n",
            "\n",
            "              precision    recall  f1-score   support\n",
            "\n",
            "           0       1.00      1.00      1.00    117454\n",
            "           1       0.77      0.64      0.70      1465\n",
            "\n",
            "    accuracy                           0.99    118919\n",
            "   macro avg       0.88      0.82      0.85    118919\n",
            "weighted avg       0.99      0.99      0.99    118919\n",
            "\n",
            "confusion matrix\n",
            "[[117178    276]\n",
            " [   522    943]] \n",
            "\n",
            "\n",
            "\n",
            "for test data\n",
            "accuracy = 0.9932895500298522\n",
            "presicion score =  0.7735849056603774\n",
            "recall score = 0.6436860068259386\n",
            "F1 score = 0.702682563338301\n",
            "\n",
            "\n",
            "for train data\n",
            "accuracy = 0.993602734657495\n",
            "presicion score =  0.7830109335576114\n",
            "recall score = 0.6493461203138623\n",
            "F1 score = 0.7099418549232676\n",
            "\n",
            "\n",
            "to understand whether our model is overfitting or underfitting, we can check the f1 scores\n",
            "0.7099418549232676  -  0.702682563338301  =  0.007259291584966521\n",
            "in percentage =  0.7259291584966521\n"
          ],
          "name": "stdout"
        }
      ]
    },
    {
      "cell_type": "code",
      "metadata": {
        "colab": {
          "base_uri": "https://localhost:8080/"
        },
        "id": "A9VKUzYmD63x",
        "outputId": "26397fdd-4fa1-41fd-c38c-45b0119f2179"
      },
      "source": [
        "name='logistic regression on unbalanced data with threshold=0.5'\n",
        "THRESHOLD=0.5\n",
        "get_report(log_reg,x_train,x_test,y_train,y_test,name,THRESHOLD)"
      ],
      "execution_count": 62,
      "outputs": [
        {
          "output_type": "stream",
          "text": [
            "logistic regression on unbalanced data with threshold=0.5 \n",
            "\n",
            "              precision    recall  f1-score   support\n",
            "\n",
            "           0       0.99      1.00      1.00    117454\n",
            "           1       0.88      0.58      0.70      1465\n",
            "\n",
            "    accuracy                           0.99    118919\n",
            "   macro avg       0.94      0.79      0.85    118919\n",
            "weighted avg       0.99      0.99      0.99    118919\n",
            "\n",
            "confusion matrix\n",
            "[[117336    118]\n",
            " [   618    847]] \n",
            "\n",
            "\n",
            "\n",
            "for test data\n",
            "accuracy = 0.9938109133107409\n",
            "presicion score =  0.877720207253886\n",
            "recall score = 0.5781569965870307\n",
            "F1 score = 0.697119341563786\n",
            "\n",
            "\n",
            "for train data\n",
            "accuracy = 0.9939433054709969\n",
            "presicion score =  0.8775132275132275\n",
            "recall score = 0.5783783783783784\n",
            "F1 score = 0.6972149238045192\n",
            "\n",
            "\n",
            "to understand whether our model is overfitting or underfitting, we can check the f1 scores\n",
            "0.6972149238045192  -  0.697119341563786  =  9.558224073324961e-05\n",
            "in percentage =  0.009558224073324961\n"
          ],
          "name": "stdout"
        }
      ]
    },
    {
      "cell_type": "code",
      "metadata": {
        "colab": {
          "base_uri": "https://localhost:8080/"
        },
        "id": "Q6LwWZ_oatOU",
        "outputId": "a2a8e4f0-a66f-4e0d-fabd-6a3019fe9708"
      },
      "source": [
        "name='logistic regression on unbalanced data with threshold=0.75'\n",
        "THRESHOLD=0.75\n",
        "get_report(log_reg,x_train,x_test,y_train,y_test,name,THRESHOLD)"
      ],
      "execution_count": 63,
      "outputs": [
        {
          "output_type": "stream",
          "text": [
            "logistic regression on unbalanced data with threshold=0.75 \n",
            "\n",
            "              precision    recall  f1-score   support\n",
            "\n",
            "           0       0.99      1.00      1.00    117454\n",
            "           1       0.94      0.50      0.65      1465\n",
            "\n",
            "    accuracy                           0.99    118919\n",
            "   macro avg       0.96      0.75      0.82    118919\n",
            "weighted avg       0.99      0.99      0.99    118919\n",
            "\n",
            "confusion matrix\n",
            "[[117404     50]\n",
            " [   733    732]] \n",
            "\n",
            "\n",
            "\n",
            "for test data\n",
            "accuracy = 0.9934156863074866\n",
            "presicion score =  0.9360613810741688\n",
            "recall score = 0.49965870307167237\n",
            "F1 score = 0.651535380507343\n",
            "\n",
            "\n",
            "for train data\n",
            "accuracy = 0.9935459728552448\n",
            "presicion score =  0.9280436877610022\n",
            "recall score = 0.5037489102005231\n",
            "F1 score = 0.6530289330922243\n",
            "\n",
            "\n",
            "to understand whether our model is overfitting or underfitting, we can check the f1 scores\n",
            "0.6530289330922243  -  0.651535380507343  =  0.0014935525848812636\n",
            "in percentage =  0.14935525848812636\n"
          ],
          "name": "stdout"
        }
      ]
    },
    {
      "cell_type": "code",
      "metadata": {
        "colab": {
          "base_uri": "https://localhost:8080/"
        },
        "id": "o8QwK6yMa8M7",
        "outputId": "c92ca87f-e06d-4afa-bcd6-ab575419ceeb"
      },
      "source": [
        "name='logistic regression on unbalanced data with threshold=0.9'\n",
        "THRESHOLD=0.9\n",
        "get_report(log_reg,x_train,x_test,y_train,y_test,name,THRESHOLD)"
      ],
      "execution_count": 64,
      "outputs": [
        {
          "output_type": "stream",
          "text": [
            "logistic regression on unbalanced data with threshold=0.9 \n",
            "\n",
            "              precision    recall  f1-score   support\n",
            "\n",
            "           0       0.99      1.00      1.00    117454\n",
            "           1       0.95      0.44      0.60      1465\n",
            "\n",
            "    accuracy                           0.99    118919\n",
            "   macro avg       0.97      0.72      0.80    118919\n",
            "weighted avg       0.99      0.99      0.99    118919\n",
            "\n",
            "confusion matrix\n",
            "[[117422     32]\n",
            " [   825    640]] \n",
            "\n",
            "\n",
            "\n",
            "for test data\n",
            "accuracy = 0.9927934140044905\n",
            "presicion score =  0.9523809523809523\n",
            "recall score = 0.43686006825938567\n",
            "F1 score = 0.5989705194197473\n",
            "\n",
            "\n",
            "for train data\n",
            "accuracy = 0.9929321044753527\n",
            "presicion score =  0.951655881233346\n",
            "recall score = 0.43591979075850046\n",
            "F1 score = 0.597943075819182\n",
            "\n",
            "\n",
            "to understand whether our model is overfitting or underfitting, we can check the f1 scores\n",
            "0.597943075819182  -  0.5989705194197473  =  -0.001027443600565281\n",
            "in percentage =  -0.1027443600565281\n"
          ],
          "name": "stdout"
        }
      ]
    },
    {
      "cell_type": "markdown",
      "metadata": {
        "id": "LGkB-4Lh-QJ8"
      },
      "source": [
        "here we observed that, if we do not balance the data, but change the threshold then the following scenario is seen:\n",
        "1. threshold = 0.10 gives f1 score = 0.6675\n",
        "and 1.07% fitting error\n",
        "2. threshold = 0.24 gives f1 score = 0.6997\n",
        "and 1.11% fitting error\n",
        "**3. threshold = 0.25 gives f1 score = 0.7030\n",
        "and 0.59% fitting error**\n",
        "4. threshold = 0.26 gives f1 score = 0.7026\n",
        "and 0.72% fitting error\n",
        "5. threshold = 0.50 gives f1 score = 0.6972\n",
        "and 0.00% fitting error\n",
        "6. threshold = 0.75 gives f1 score = 0.6530\n",
        "and 0.14% fitting error\n",
        "7. threshold = 0.90 gives f1 score = 0.5979\n",
        "and -0.10% fitting error"
      ]
    },
    {
      "cell_type": "code",
      "metadata": {
        "colab": {
          "base_uri": "https://localhost:8080/",
          "height": 204
        },
        "id": "Xc2K2tJhXb-B",
        "outputId": "0c4b7cad-644e-4db1-87c1-d320d9dcfdc1"
      },
      "source": [
        "cutoff={'threshold':[0.05,0.10,0.15,0.20,0.25,0.30,0.35,0.40,0.45,0.50,0.55,0.60,0.65,0.70,0.75,0.80,0.85,0.90,0.95]}\n",
        "cutoff=pd.DataFrame(cutoff)\n",
        "cutoff['accuracy']=np.nan\n",
        "cutoff['recall']=np.nan\n",
        "cutoff['precision']=np.nan\n",
        "cutoff['f1 score']=np.nan\n",
        "cutoff['difference in accuracy']=np.nan\n",
        "cutoff['difference in f1 score']=np.nan\n",
        "cutoff.head()"
      ],
      "execution_count": 65,
      "outputs": [
        {
          "output_type": "execute_result",
          "data": {
            "text/html": [
              "<div>\n",
              "<style scoped>\n",
              "    .dataframe tbody tr th:only-of-type {\n",
              "        vertical-align: middle;\n",
              "    }\n",
              "\n",
              "    .dataframe tbody tr th {\n",
              "        vertical-align: top;\n",
              "    }\n",
              "\n",
              "    .dataframe thead th {\n",
              "        text-align: right;\n",
              "    }\n",
              "</style>\n",
              "<table border=\"1\" class=\"dataframe\">\n",
              "  <thead>\n",
              "    <tr style=\"text-align: right;\">\n",
              "      <th></th>\n",
              "      <th>threshold</th>\n",
              "      <th>accuracy</th>\n",
              "      <th>recall</th>\n",
              "      <th>precision</th>\n",
              "      <th>f1 score</th>\n",
              "      <th>difference in accuracy</th>\n",
              "      <th>difference in f1 score</th>\n",
              "    </tr>\n",
              "  </thead>\n",
              "  <tbody>\n",
              "    <tr>\n",
              "      <th>0</th>\n",
              "      <td>0.05</td>\n",
              "      <td>NaN</td>\n",
              "      <td>NaN</td>\n",
              "      <td>NaN</td>\n",
              "      <td>NaN</td>\n",
              "      <td>NaN</td>\n",
              "      <td>NaN</td>\n",
              "    </tr>\n",
              "    <tr>\n",
              "      <th>1</th>\n",
              "      <td>0.10</td>\n",
              "      <td>NaN</td>\n",
              "      <td>NaN</td>\n",
              "      <td>NaN</td>\n",
              "      <td>NaN</td>\n",
              "      <td>NaN</td>\n",
              "      <td>NaN</td>\n",
              "    </tr>\n",
              "    <tr>\n",
              "      <th>2</th>\n",
              "      <td>0.15</td>\n",
              "      <td>NaN</td>\n",
              "      <td>NaN</td>\n",
              "      <td>NaN</td>\n",
              "      <td>NaN</td>\n",
              "      <td>NaN</td>\n",
              "      <td>NaN</td>\n",
              "    </tr>\n",
              "    <tr>\n",
              "      <th>3</th>\n",
              "      <td>0.20</td>\n",
              "      <td>NaN</td>\n",
              "      <td>NaN</td>\n",
              "      <td>NaN</td>\n",
              "      <td>NaN</td>\n",
              "      <td>NaN</td>\n",
              "      <td>NaN</td>\n",
              "    </tr>\n",
              "    <tr>\n",
              "      <th>4</th>\n",
              "      <td>0.25</td>\n",
              "      <td>NaN</td>\n",
              "      <td>NaN</td>\n",
              "      <td>NaN</td>\n",
              "      <td>NaN</td>\n",
              "      <td>NaN</td>\n",
              "      <td>NaN</td>\n",
              "    </tr>\n",
              "  </tbody>\n",
              "</table>\n",
              "</div>"
            ],
            "text/plain": [
              "   threshold  accuracy  ...  difference in accuracy  difference in f1 score\n",
              "0       0.05       NaN  ...                     NaN                     NaN\n",
              "1       0.10       NaN  ...                     NaN                     NaN\n",
              "2       0.15       NaN  ...                     NaN                     NaN\n",
              "3       0.20       NaN  ...                     NaN                     NaN\n",
              "4       0.25       NaN  ...                     NaN                     NaN\n",
              "\n",
              "[5 rows x 7 columns]"
            ]
          },
          "metadata": {
            "tags": []
          },
          "execution_count": 65
        }
      ]
    },
    {
      "cell_type": "code",
      "metadata": {
        "id": "DBU_zfbVYqv6"
      },
      "source": [
        "def report(THRESHOLD):\n",
        "  log_reg.fit(x_train,y_train)\n",
        "\n",
        "  #for test data\n",
        "  y_pred=np.where(log_reg.predict_proba(x_test)[:,1] > THRESHOLD, 1, 0)\n",
        "  accuracy=accuracy_score(y_test,y_pred)\n",
        "  precision_score_m=precision_score(y_test,y_pred)\n",
        "  recall_score_m=recall_score(y_test,y_pred)\n",
        "  f1_score_m=f1_score(y_test,y_pred)\n",
        "\n",
        "  #for train data\n",
        "  y_pred_train=np.where(log_reg.predict_proba(x_train)[:,1] > THRESHOLD, 1, 0)\n",
        "  accuracy_t=accuracy_score(y_train,y_pred_train)\n",
        "  precision_score_m_t=precision_score(y_train,y_pred_train)\n",
        "  recall_score_m_t=recall_score(y_train,y_pred_train)\n",
        "  f1_score_m_t=f1_score(y_train,y_pred_train)\n",
        "\n",
        "  diff_a=accuracy_t-accuracy\n",
        "  diff_f1=f1_score_m_t-f1_score_m\n",
        "  \n",
        "  cutoff.loc[cutoff['threshold'] == THRESHOLD, 'accuracy'] = accuracy\n",
        "  cutoff.loc[cutoff['threshold'] == THRESHOLD, 'precision'] = precision_score_m\n",
        "  cutoff.loc[cutoff['threshold'] == THRESHOLD, 'recall'] = recall_score_m\n",
        "  cutoff.loc[cutoff['threshold'] == THRESHOLD, 'f1 score'] = f1_score_m\n",
        "  cutoff.loc[cutoff['threshold'] == THRESHOLD, 'difference in accuracy'] = diff_a\n",
        "  cutoff.loc[cutoff['threshold'] == THRESHOLD, 'difference in f1 score'] = diff_f1"
      ],
      "execution_count": 66,
      "outputs": []
    },
    {
      "cell_type": "code",
      "metadata": {
        "id": "-Tj_BIZHbUl3"
      },
      "source": [
        "for i in np.arange(0.05,1.0,0.05):\n",
        "  report(i)"
      ],
      "execution_count": 80,
      "outputs": []
    },
    {
      "cell_type": "code",
      "metadata": {
        "colab": {
          "base_uri": "https://localhost:8080/",
          "height": 638
        },
        "id": "vfVa9Pbjd8jk",
        "outputId": "94961a7c-e7e8-4944-f98e-64f1ee6f518f"
      },
      "source": [
        "cutoff"
      ],
      "execution_count": 81,
      "outputs": [
        {
          "output_type": "execute_result",
          "data": {
            "text/html": [
              "<div>\n",
              "<style scoped>\n",
              "    .dataframe tbody tr th:only-of-type {\n",
              "        vertical-align: middle;\n",
              "    }\n",
              "\n",
              "    .dataframe tbody tr th {\n",
              "        vertical-align: top;\n",
              "    }\n",
              "\n",
              "    .dataframe thead th {\n",
              "        text-align: right;\n",
              "    }\n",
              "</style>\n",
              "<table border=\"1\" class=\"dataframe\">\n",
              "  <thead>\n",
              "    <tr style=\"text-align: right;\">\n",
              "      <th></th>\n",
              "      <th>threshold</th>\n",
              "      <th>accuracy</th>\n",
              "      <th>recall</th>\n",
              "      <th>precision</th>\n",
              "      <th>f1 score</th>\n",
              "      <th>difference in accuracy</th>\n",
              "      <th>difference in f1 score</th>\n",
              "      <th>diff in accuracy in %</th>\n",
              "      <th>diff in f1 score in %</th>\n",
              "    </tr>\n",
              "  </thead>\n",
              "  <tbody>\n",
              "    <tr>\n",
              "      <th>0</th>\n",
              "      <td>0.05</td>\n",
              "      <td>0.987538</td>\n",
              "      <td>0.769966</td>\n",
              "      <td>0.496260</td>\n",
              "      <td>0.603531</td>\n",
              "      <td>0.000528</td>\n",
              "      <td>0.008192</td>\n",
              "      <td>NaN</td>\n",
              "      <td>NaN</td>\n",
              "    </tr>\n",
              "    <tr>\n",
              "      <th>1</th>\n",
              "      <td>0.10</td>\n",
              "      <td>0.991179</td>\n",
              "      <td>0.718771</td>\n",
              "      <td>0.623077</td>\n",
              "      <td>0.667512</td>\n",
              "      <td>0.000496</td>\n",
              "      <td>0.010746</td>\n",
              "      <td>NaN</td>\n",
              "      <td>NaN</td>\n",
              "    </tr>\n",
              "    <tr>\n",
              "      <th>2</th>\n",
              "      <td>0.15</td>\n",
              "      <td>0.992196</td>\n",
              "      <td>0.684642</td>\n",
              "      <td>0.682777</td>\n",
              "      <td>0.683708</td>\n",
              "      <td>0.000549</td>\n",
              "      <td>0.014023</td>\n",
              "      <td>0.054863</td>\n",
              "      <td>1.402320</td>\n",
              "    </tr>\n",
              "    <tr>\n",
              "      <th>3</th>\n",
              "      <td>0.20</td>\n",
              "      <td>0.992751</td>\n",
              "      <td>0.662116</td>\n",
              "      <td>0.725505</td>\n",
              "      <td>0.692363</td>\n",
              "      <td>0.000544</td>\n",
              "      <td>0.015578</td>\n",
              "      <td>NaN</td>\n",
              "      <td>NaN</td>\n",
              "    </tr>\n",
              "    <tr>\n",
              "      <th>4</th>\n",
              "      <td>0.25</td>\n",
              "      <td>0.993273</td>\n",
              "      <td>0.646416</td>\n",
              "      <td>0.770545</td>\n",
              "      <td>0.703044</td>\n",
              "      <td>0.000267</td>\n",
              "      <td>0.005980</td>\n",
              "      <td>NaN</td>\n",
              "      <td>NaN</td>\n",
              "    </tr>\n",
              "    <tr>\n",
              "      <th>5</th>\n",
              "      <td>0.30</td>\n",
              "      <td>0.993584</td>\n",
              "      <td>0.632765</td>\n",
              "      <td>0.804688</td>\n",
              "      <td>0.708445</td>\n",
              "      <td>0.000172</td>\n",
              "      <td>0.001799</td>\n",
              "      <td>NaN</td>\n",
              "      <td>NaN</td>\n",
              "    </tr>\n",
              "    <tr>\n",
              "      <th>6</th>\n",
              "      <td>0.35</td>\n",
              "      <td>0.993702</td>\n",
              "      <td>0.615700</td>\n",
              "      <td>0.829044</td>\n",
              "      <td>0.706620</td>\n",
              "      <td>0.000141</td>\n",
              "      <td>0.001502</td>\n",
              "      <td>0.014080</td>\n",
              "      <td>0.150191</td>\n",
              "    </tr>\n",
              "    <tr>\n",
              "      <th>7</th>\n",
              "      <td>0.40</td>\n",
              "      <td>0.993752</td>\n",
              "      <td>0.602730</td>\n",
              "      <td>0.845785</td>\n",
              "      <td>0.703866</td>\n",
              "      <td>0.000156</td>\n",
              "      <td>0.001562</td>\n",
              "      <td>NaN</td>\n",
              "      <td>NaN</td>\n",
              "    </tr>\n",
              "    <tr>\n",
              "      <th>8</th>\n",
              "      <td>0.45</td>\n",
              "      <td>0.993786</td>\n",
              "      <td>0.589078</td>\n",
              "      <td>0.863000</td>\n",
              "      <td>0.700203</td>\n",
              "      <td>0.000156</td>\n",
              "      <td>0.002070</td>\n",
              "      <td>NaN</td>\n",
              "      <td>NaN</td>\n",
              "    </tr>\n",
              "    <tr>\n",
              "      <th>9</th>\n",
              "      <td>0.50</td>\n",
              "      <td>0.993811</td>\n",
              "      <td>0.578157</td>\n",
              "      <td>0.877720</td>\n",
              "      <td>0.697119</td>\n",
              "      <td>0.000132</td>\n",
              "      <td>0.000096</td>\n",
              "      <td>NaN</td>\n",
              "      <td>NaN</td>\n",
              "    </tr>\n",
              "    <tr>\n",
              "      <th>10</th>\n",
              "      <td>0.55</td>\n",
              "      <td>0.993760</td>\n",
              "      <td>0.562457</td>\n",
              "      <td>0.890811</td>\n",
              "      <td>0.689540</td>\n",
              "      <td>0.000143</td>\n",
              "      <td>0.000764</td>\n",
              "      <td>NaN</td>\n",
              "      <td>NaN</td>\n",
              "    </tr>\n",
              "    <tr>\n",
              "      <th>11</th>\n",
              "      <td>0.60</td>\n",
              "      <td>0.993752</td>\n",
              "      <td>0.548805</td>\n",
              "      <td>0.907449</td>\n",
              "      <td>0.683964</td>\n",
              "      <td>0.000095</td>\n",
              "      <td>-0.001048</td>\n",
              "      <td>0.009455</td>\n",
              "      <td>-0.104801</td>\n",
              "    </tr>\n",
              "    <tr>\n",
              "      <th>12</th>\n",
              "      <td>0.65</td>\n",
              "      <td>0.993643</td>\n",
              "      <td>0.534471</td>\n",
              "      <td>0.913652</td>\n",
              "      <td>0.674419</td>\n",
              "      <td>0.000122</td>\n",
              "      <td>-0.000066</td>\n",
              "      <td>0.012188</td>\n",
              "      <td>-0.006639</td>\n",
              "    </tr>\n",
              "    <tr>\n",
              "      <th>13</th>\n",
              "      <td>0.70</td>\n",
              "      <td>0.993550</td>\n",
              "      <td>0.518089</td>\n",
              "      <td>0.925610</td>\n",
              "      <td>0.664333</td>\n",
              "      <td>0.000107</td>\n",
              "      <td>-0.000638</td>\n",
              "      <td>0.010716</td>\n",
              "      <td>-0.063848</td>\n",
              "    </tr>\n",
              "    <tr>\n",
              "      <th>14</th>\n",
              "      <td>0.75</td>\n",
              "      <td>0.993416</td>\n",
              "      <td>0.499659</td>\n",
              "      <td>0.936061</td>\n",
              "      <td>0.651535</td>\n",
              "      <td>0.000130</td>\n",
              "      <td>0.001494</td>\n",
              "      <td>0.013029</td>\n",
              "      <td>0.149355</td>\n",
              "    </tr>\n",
              "    <tr>\n",
              "      <th>15</th>\n",
              "      <td>0.80</td>\n",
              "      <td>0.993205</td>\n",
              "      <td>0.476451</td>\n",
              "      <td>0.944520</td>\n",
              "      <td>0.633394</td>\n",
              "      <td>0.000183</td>\n",
              "      <td>0.005651</td>\n",
              "      <td>NaN</td>\n",
              "      <td>NaN</td>\n",
              "    </tr>\n",
              "    <tr>\n",
              "      <th>16</th>\n",
              "      <td>0.85</td>\n",
              "      <td>0.993004</td>\n",
              "      <td>0.457338</td>\n",
              "      <td>0.947666</td>\n",
              "      <td>0.616943</td>\n",
              "      <td>0.000172</td>\n",
              "      <td>0.003141</td>\n",
              "      <td>0.017233</td>\n",
              "      <td>0.314136</td>\n",
              "    </tr>\n",
              "    <tr>\n",
              "      <th>17</th>\n",
              "      <td>0.90</td>\n",
              "      <td>0.992793</td>\n",
              "      <td>0.436860</td>\n",
              "      <td>0.952381</td>\n",
              "      <td>0.598971</td>\n",
              "      <td>0.000139</td>\n",
              "      <td>-0.001027</td>\n",
              "      <td>0.013869</td>\n",
              "      <td>-0.102744</td>\n",
              "    </tr>\n",
              "    <tr>\n",
              "      <th>18</th>\n",
              "      <td>0.95</td>\n",
              "      <td>0.992356</td>\n",
              "      <td>0.396587</td>\n",
              "      <td>0.958746</td>\n",
              "      <td>0.561082</td>\n",
              "      <td>0.000145</td>\n",
              "      <td>-0.001072</td>\n",
              "      <td>0.014499</td>\n",
              "      <td>-0.107174</td>\n",
              "    </tr>\n",
              "  </tbody>\n",
              "</table>\n",
              "</div>"
            ],
            "text/plain": [
              "    threshold  accuracy  ...  diff in accuracy in %  diff in f1 score in %\n",
              "0        0.05  0.987538  ...                    NaN                    NaN\n",
              "1        0.10  0.991179  ...                    NaN                    NaN\n",
              "2        0.15  0.992196  ...               0.054863               1.402320\n",
              "3        0.20  0.992751  ...                    NaN                    NaN\n",
              "4        0.25  0.993273  ...                    NaN                    NaN\n",
              "5        0.30  0.993584  ...                    NaN                    NaN\n",
              "6        0.35  0.993702  ...               0.014080               0.150191\n",
              "7        0.40  0.993752  ...                    NaN                    NaN\n",
              "8        0.45  0.993786  ...                    NaN                    NaN\n",
              "9        0.50  0.993811  ...                    NaN                    NaN\n",
              "10       0.55  0.993760  ...                    NaN                    NaN\n",
              "11       0.60  0.993752  ...               0.009455              -0.104801\n",
              "12       0.65  0.993643  ...               0.012188              -0.006639\n",
              "13       0.70  0.993550  ...               0.010716              -0.063848\n",
              "14       0.75  0.993416  ...               0.013029               0.149355\n",
              "15       0.80  0.993205  ...                    NaN                    NaN\n",
              "16       0.85  0.993004  ...               0.017233               0.314136\n",
              "17       0.90  0.992793  ...               0.013869              -0.102744\n",
              "18       0.95  0.992356  ...               0.014499              -0.107174\n",
              "\n",
              "[19 rows x 9 columns]"
            ]
          },
          "metadata": {
            "tags": []
          },
          "execution_count": 81
        }
      ]
    },
    {
      "cell_type": "code",
      "metadata": {
        "colab": {
          "base_uri": "https://localhost:8080/",
          "height": 279
        },
        "id": "mhobKI6lg361",
        "outputId": "3fe9eeeb-efc5-49de-c8a6-615719a174f9"
      },
      "source": [
        "sns.lineplot(x=cutoff['threshold'],y=cutoff['accuracy'],color='red')\n",
        "sns.lineplot(x=cutoff['threshold'],y=cutoff['precision'],color='green')\n",
        "sns.lineplot(x=cutoff['threshold'],y=cutoff['recall'],color='blue')\n",
        "sns.lineplot(x=cutoff['threshold'],y=cutoff['f1 score'],color='orange')\n",
        "plt.ylabel('range')\n",
        "plt.show()"
      ],
      "execution_count": 82,
      "outputs": [
        {
          "output_type": "display_data",
          "data": {
            "image/png": "[encoded data removed]",
            "text/plain": [
              "<Figure size 432x288 with 1 Axes>"
            ]
          },
          "metadata": {
            "tags": [],
            "needs_background": "light"
          }
        }
      ]
    },
    {
      "cell_type": "code",
      "metadata": {
        "colab": {
          "base_uri": "https://localhost:8080/",
          "height": 279
        },
        "id": "MA2TZ-6WiMW0",
        "outputId": "20bd3ce6-7b3d-48b0-8590-f9109e16d086"
      },
      "source": [
        "cutoff['diff in accuracy in %']=cutoff['difference in accuracy']*100\n",
        "cutoff['diff in f1 score in %']=cutoff['difference in f1 score']*100\n",
        "\n",
        "sns.lineplot(x=cutoff['threshold'],y=cutoff['diff in accuracy in %'])\n",
        "sns.lineplot(x=cutoff['threshold'],y=cutoff['diff in f1 score in %'])\n",
        "plt.show()"
      ],
      "execution_count": 83,
      "outputs": [
        {
          "output_type": "display_data",
          "data": {
            "image/png": "[encoded data removed]",
            "text/plain": [
              "<Figure size 432x288 with 1 Axes>"
            ]
          },
          "metadata": {
            "tags": [],
            "needs_background": "light"
          }
        }
      ]
    },
    {
      "cell_type": "code",
      "metadata": {
        "colab": {
          "base_uri": "https://localhost:8080/"
        },
        "id": "pSPZcdIGbJEf",
        "outputId": "0c20350f-7942-492e-cd07-15610fc9f55c"
      },
      "source": [
        "rus=RandomUnderSampler()\n",
        "x2_train,y2_train=rus.fit_sample(x_train,y_train)\n",
        "np.bincount(y2_train)"
      ],
      "execution_count": 73,
      "outputs": [
        {
          "output_type": "stream",
          "text": [
            "/usr/local/lib/python3.7/dist-packages/sklearn/utils/deprecation.py:87: FutureWarning: Function safe_indexing is deprecated; safe_indexing is deprecated in version 0.22 and will be removed in version 0.24.\n",
            "  warnings.warn(msg, category=FutureWarning)\n"
          ],
          "name": "stderr"
        },
        {
          "output_type": "execute_result",
          "data": {
            "text/plain": [
              "array([5735, 5735])"
            ]
          },
          "metadata": {
            "tags": []
          },
          "execution_count": 73
        }
      ]
    },
    {
      "cell_type": "code",
      "metadata": {
        "colab": {
          "base_uri": "https://localhost:8080/"
        },
        "id": "5bsR9db9di3R",
        "outputId": "86d7764f-9fdb-4fa0-87e8-c43dddae07a6"
      },
      "source": [
        "ros = RandomOverSampler()\n",
        "x3_train,y3_train=ros.fit_sample(x_train,y_train)\n",
        "np.bincount(y3_train)"
      ],
      "execution_count": 74,
      "outputs": [
        {
          "output_type": "stream",
          "text": [
            "/usr/local/lib/python3.7/dist-packages/sklearn/utils/deprecation.py:87: FutureWarning: Function safe_indexing is deprecated; safe_indexing is deprecated in version 0.22 and will be removed in version 0.24.\n",
            "  warnings.warn(msg, category=FutureWarning)\n"
          ],
          "name": "stderr"
        },
        {
          "output_type": "execute_result",
          "data": {
            "text/plain": [
              "array([469937, 469937])"
            ]
          },
          "metadata": {
            "tags": []
          },
          "execution_count": 74
        }
      ]
    },
    {
      "cell_type": "code",
      "metadata": {
        "colab": {
          "base_uri": "https://localhost:8080/"
        },
        "id": "9xZsQWErdpts",
        "outputId": "166d8d5f-3ec3-4e71-ac5a-75c1a04edc75"
      },
      "source": [
        "smt=SMOTE()\n",
        "x4_train,y4_train=smt.fit_sample(x_train,y_train)\n",
        "np.bincount(y4_train)"
      ],
      "execution_count": 75,
      "outputs": [
        {
          "output_type": "stream",
          "text": [
            "/usr/local/lib/python3.7/dist-packages/sklearn/utils/deprecation.py:87: FutureWarning: Function safe_indexing is deprecated; safe_indexing is deprecated in version 0.22 and will be removed in version 0.24.\n",
            "  warnings.warn(msg, category=FutureWarning)\n"
          ],
          "name": "stderr"
        },
        {
          "output_type": "execute_result",
          "data": {
            "text/plain": [
              "array([469937, 469937])"
            ]
          },
          "metadata": {
            "tags": []
          },
          "execution_count": 75
        }
      ]
    },
    {
      "cell_type": "code",
      "metadata": {
        "colab": {
          "base_uri": "https://localhost:8080/"
        },
        "id": "09tdAXAKdsQ4",
        "outputId": "91c62ff1-9e21-4169-9614-ced90320b9d9"
      },
      "source": [
        "name='logistic regression (under sampling)'\n",
        "THRESHOLD=0.5\n",
        "get_report(log_reg,x2_train,x_test,y2_train,y_test,name,THRESHOLD)"
      ],
      "execution_count": 76,
      "outputs": [
        {
          "output_type": "stream",
          "text": [
            "logistic regression (under sampling) \n",
            "\n",
            "              precision    recall  f1-score   support\n",
            "\n",
            "           0       1.00      0.95      0.97    117454\n",
            "           1       0.17      0.88      0.28      1465\n",
            "\n",
            "    accuracy                           0.95    118919\n",
            "   macro avg       0.58      0.91      0.63    118919\n",
            "weighted avg       0.99      0.95      0.96    118919\n",
            "\n",
            "confusion matrix\n",
            "[[111100   6354]\n",
            " [   177   1288]] \n",
            "\n",
            "\n",
            "\n",
            "for test data\n",
            "accuracy = 0.9450802647180013\n",
            "presicion score =  0.16854226642240253\n",
            "recall score = 0.8791808873720136\n",
            "F1 score = 0.28285933897002313\n",
            "\n",
            "\n",
            "for train data\n",
            "accuracy = 0.9102877070619007\n",
            "presicion score =  0.9429593373493976\n",
            "recall score = 0.8734088927637315\n",
            "F1 score = 0.9068525391509007\n",
            "\n",
            "\n",
            "to understand whether our model is overfitting or underfitting, we can check the f1 scores\n",
            "0.9068525391509007  -  0.28285933897002313  =  0.6239932001808776\n",
            "in percentage =  62.39932001808776\n"
          ],
          "name": "stdout"
        }
      ]
    },
    {
      "cell_type": "code",
      "metadata": {
        "colab": {
          "base_uri": "https://localhost:8080/"
        },
        "id": "1MmZOlCUd3uc",
        "outputId": "d3cc61eb-1cfb-4416-8b0d-0fd225d22905"
      },
      "source": [
        "name='logistic regression (over sampling)'\n",
        "THRESHOLD=0.5\n",
        "get_report(log_reg,x3_train,x_test,y3_train,y_test,name,THRESHOLD)"
      ],
      "execution_count": 77,
      "outputs": [
        {
          "output_type": "stream",
          "text": [
            "logistic regression (over sampling) \n",
            "\n",
            "              precision    recall  f1-score   support\n",
            "\n",
            "           0       1.00      0.95      0.98    117454\n",
            "           1       0.19      0.88      0.31      1465\n",
            "\n",
            "    accuracy                           0.95    118919\n",
            "   macro avg       0.59      0.91      0.64    118919\n",
            "weighted avg       0.99      0.95      0.97    118919\n",
            "\n",
            "confusion matrix\n",
            "[[111972   5482]\n",
            " [   183   1282]] \n",
            "\n",
            "\n",
            "\n",
            "for test data\n",
            "accuracy = 0.9523625324800915\n",
            "presicion score =  0.18953282081608516\n",
            "recall score = 0.875085324232082\n",
            "F1 score = 0.31158099404544903\n",
            "\n",
            "\n",
            "for train data\n",
            "accuracy = 0.9131372928711721\n",
            "presicion score =  0.9500752256189017\n",
            "recall score = 0.8721020051623941\n",
            "F1 score = 0.9094203300543877\n",
            "\n",
            "\n",
            "to understand whether our model is overfitting or underfitting, we can check the f1 scores\n",
            "0.9094203300543877  -  0.31158099404544903  =  0.5978393360089387\n",
            "in percentage =  59.78393360089387\n"
          ],
          "name": "stdout"
        }
      ]
    },
    {
      "cell_type": "code",
      "metadata": {
        "colab": {
          "base_uri": "https://localhost:8080/"
        },
        "id": "_kfhWkzFdmQJ",
        "outputId": "7828880f-e58f-42a5-ccd6-ee92511504ac"
      },
      "source": [
        "name='logistic regression (smote sampling)'\n",
        "THRESHOLD=0.5\n",
        "get_report(log_reg,x2_train,x_test,y2_train,y_test,name,THRESHOLD)"
      ],
      "execution_count": 78,
      "outputs": [
        {
          "output_type": "stream",
          "text": [
            "logistic regression (smote sampling) \n",
            "\n",
            "              precision    recall  f1-score   support\n",
            "\n",
            "           0       1.00      0.95      0.97    117454\n",
            "           1       0.17      0.88      0.28      1465\n",
            "\n",
            "    accuracy                           0.95    118919\n",
            "   macro avg       0.58      0.91      0.63    118919\n",
            "weighted avg       0.99      0.95      0.96    118919\n",
            "\n",
            "confusion matrix\n",
            "[[111100   6354]\n",
            " [   177   1288]] \n",
            "\n",
            "\n",
            "\n",
            "for test data\n",
            "accuracy = 0.9450802647180013\n",
            "presicion score =  0.16854226642240253\n",
            "recall score = 0.8791808873720136\n",
            "F1 score = 0.28285933897002313\n",
            "\n",
            "\n",
            "for train data\n",
            "accuracy = 0.9102877070619007\n",
            "presicion score =  0.9429593373493976\n",
            "recall score = 0.8734088927637315\n",
            "F1 score = 0.9068525391509007\n",
            "\n",
            "\n",
            "to understand whether our model is overfitting or underfitting, we can check the f1 scores\n",
            "0.9068525391509007  -  0.28285933897002313  =  0.6239932001808776\n",
            "in percentage =  62.39932001808776\n"
          ],
          "name": "stdout"
        }
      ]
    },
    {
      "cell_type": "markdown",
      "metadata": {
        "id": "Xk8isApRFpL4"
      },
      "source": [
        "1. using under sampling,\n",
        "f1 score = 0.3146,\n",
        "recall = 0.8757,\n",
        "fitting problem = 59.68 \n",
        "\n",
        "2. using over sampling,\n",
        "f1 score = 0.3102,\n",
        "recall = 0.8744,\n",
        "fitting problem = 59.92%\n",
        "\n",
        "3. using smote,\n",
        "f1 score = 0.3146,\n",
        "recall = 0.8757,\n",
        "fitting problem = 59.68%"
      ]
    }
  ]
}